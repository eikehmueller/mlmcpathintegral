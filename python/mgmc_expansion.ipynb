{
 "cells": [
  {
   "cell_type": "code",
   "execution_count": 1,
   "metadata": {},
   "outputs": [
    {
     "name": "stdout",
     "output_type": "stream",
     "text": [
      "The autoreload extension is already loaded. To reload it, use:\n",
      "  %reload_ext autoreload\n"
     ]
    }
   ],
   "source": [
    "from sympy import *\n",
    "import numpy as np\n",
    "from IPython.display import display\n",
    "from itertools import product\n",
    "from action import Coarsener, Action\n",
    "\n",
    "%load_ext autoreload\n",
    "%autoreload 2"
   ]
  },
  {
   "cell_type": "code",
   "execution_count": 2,
   "metadata": {},
   "outputs": [],
   "source": [
    "phi = IndexedBase(\"phi\")\n",
    "i = symbols(\"i\", integer=True)\n",
    "j = symbols(\"j\", integer=True)\n",
    "# N = symbols(\"N\")\n",
    "# i = Idx(\"i\",N)\n",
    "# j = Idx(\"j\",N)\n",
    "alpha = IndexedBase(\"alpha\")\n",
    "beta = IndexedBase(\"beta\")\n",
    "omega = symbols(\"omega\")\n",
    "h = symbols(\"h\")\n",
    "gamma = IndexedBase(\"c\")\n",
    "\n",
    "fine_action_expr = phi[i, j] * (\n",
    "    h**2 * alpha[i, j] * phi[i, j]\n",
    "    - beta[i + 1, j] * (phi[i + 1, j] - phi[i, j])\n",
    "    - beta[i, j] * (phi[i - 1, j] - phi[i, j])\n",
    "    - beta[i, j + 1] * (phi[i, j + 1] - phi[i, j])\n",
    "    - beta[i, j] * (phi[i, j - 1] - phi[i, j])\n",
    ")\n",
    "\n",
    "action = Action(fine_action_expr, phi, (i, j))\n",
    "action_2 = action**3\n",
    "\n",
    "with open(\"generated_code.cc\",\"w\",encoding=\"utf8\") as f:\n",
    "    print(action_2.get_stencil(),file=f)"
   ]
  },
  {
   "cell_type": "code",
   "execution_count": 157,
   "metadata": {},
   "outputs": [
    {
     "data": {
      "text/latex": [
       "$\\displaystyle \\left(h^{4} {\\alpha}_{i,j}^{2} {\\phi}_{i,j} - h^{2} {\\alpha}_{i + 1,j} {\\beta}_{i + 1,j} {\\phi}_{i + 1,j} - h^{2} {\\alpha}_{i - 1,j} {\\beta}_{i,j} {\\phi}_{i - 1,j} - h^{2} {\\alpha}_{i,j + 1} {\\beta}_{i,j + 1} {\\phi}_{i,j + 1} - h^{2} {\\alpha}_{i,j - 1} {\\beta}_{i,j} {\\phi}_{i,j - 1} - h^{2} {\\alpha}_{i,j} {\\beta}_{i + 1,j} {\\phi}_{i + 1,j} + 2 h^{2} {\\alpha}_{i,j} {\\beta}_{i + 1,j} {\\phi}_{i,j} - h^{2} {\\alpha}_{i,j} {\\beta}_{i,j + 1} {\\phi}_{i,j + 1} + 2 h^{2} {\\alpha}_{i,j} {\\beta}_{i,j + 1} {\\phi}_{i,j} - h^{2} {\\alpha}_{i,j} {\\beta}_{i,j} {\\phi}_{i - 1,j} - h^{2} {\\alpha}_{i,j} {\\beta}_{i,j} {\\phi}_{i,j - 1} + 4 h^{2} {\\alpha}_{i,j} {\\beta}_{i,j} {\\phi}_{i,j} + {\\beta}_{i + 1,j + 1} {\\beta}_{i + 1,j} {\\phi}_{i + 1,j + 1} - {\\beta}_{i + 1,j + 1} {\\beta}_{i + 1,j} {\\phi}_{i + 1,j} + {\\beta}_{i + 1,j + 1} {\\beta}_{i,j + 1} {\\phi}_{i + 1,j + 1} - {\\beta}_{i + 1,j + 1} {\\beta}_{i,j + 1} {\\phi}_{i,j + 1} + {\\beta}_{i + 1,j - 1} {\\beta}_{i,j} {\\phi}_{i + 1,j - 1} - {\\beta}_{i + 1,j - 1} {\\beta}_{i,j} {\\phi}_{i,j - 1} + {\\beta}_{i + 1,j}^{2} {\\phi}_{i + 1,j - 1} - 3 {\\beta}_{i + 1,j}^{2} {\\phi}_{i + 1,j} + 2 {\\beta}_{i + 1,j}^{2} {\\phi}_{i,j} - {\\beta}_{i + 1,j} {\\beta}_{i + 2,j} {\\phi}_{i + 1,j} + {\\beta}_{i + 1,j} {\\beta}_{i + 2,j} {\\phi}_{i + 2,j} - {\\beta}_{i + 1,j} {\\beta}_{i,j + 1} {\\phi}_{i + 1,j} - {\\beta}_{i + 1,j} {\\beta}_{i,j + 1} {\\phi}_{i,j + 1} + 2 {\\beta}_{i + 1,j} {\\beta}_{i,j + 1} {\\phi}_{i,j} - 2 {\\beta}_{i + 1,j} {\\beta}_{i,j} {\\phi}_{i + 1,j} - {\\beta}_{i + 1,j} {\\beta}_{i,j} {\\phi}_{i - 1,j} - {\\beta}_{i + 1,j} {\\beta}_{i,j} {\\phi}_{i,j - 1} + 4 {\\beta}_{i + 1,j} {\\beta}_{i,j} {\\phi}_{i,j} + {\\beta}_{i - 1,j + 1} {\\beta}_{i,j} {\\phi}_{i - 1,j + 1} - {\\beta}_{i - 1,j + 1} {\\beta}_{i,j} {\\phi}_{i - 1,j} + {\\beta}_{i - 1,j} {\\beta}_{i,j} {\\phi}_{i - 1,j - 1} - 2 {\\beta}_{i - 1,j} {\\beta}_{i,j} {\\phi}_{i - 1,j} + {\\beta}_{i - 1,j} {\\beta}_{i,j} {\\phi}_{i - 2,j} + {\\beta}_{i,j + 1}^{2} {\\phi}_{i - 1,j + 1} - 3 {\\beta}_{i,j + 1}^{2} {\\phi}_{i,j + 1} + 2 {\\beta}_{i,j + 1}^{2} {\\phi}_{i,j} - {\\beta}_{i,j + 1} {\\beta}_{i,j + 2} {\\phi}_{i,j + 1} + {\\beta}_{i,j + 1} {\\beta}_{i,j + 2} {\\phi}_{i,j + 2} - {\\beta}_{i,j + 1} {\\beta}_{i,j} {\\phi}_{i - 1,j} - 2 {\\beta}_{i,j + 1} {\\beta}_{i,j} {\\phi}_{i,j + 1} - {\\beta}_{i,j + 1} {\\beta}_{i,j} {\\phi}_{i,j - 1} + 4 {\\beta}_{i,j + 1} {\\beta}_{i,j} {\\phi}_{i,j} + {\\beta}_{i,j - 1} {\\beta}_{i,j} {\\phi}_{i - 1,j - 1} - 2 {\\beta}_{i,j - 1} {\\beta}_{i,j} {\\phi}_{i,j - 1} + {\\beta}_{i,j - 1} {\\beta}_{i,j} {\\phi}_{i,j - 2} - 3 {\\beta}_{i,j}^{2} {\\phi}_{i - 1,j} - 3 {\\beta}_{i,j}^{2} {\\phi}_{i,j - 1} + 6 {\\beta}_{i,j}^{2} {\\phi}_{i,j}\\right) {\\phi}_{i,j}$"
      ],
      "text/plain": [
       "(h**4*alpha[i, j]**2*phi[i, j] - h**2*alpha[i + 1, j]*beta[i + 1, j]*phi[i + 1, j] - h**2*alpha[i - 1, j]*beta[i, j]*phi[i - 1, j] - h**2*alpha[i, j + 1]*beta[i, j + 1]*phi[i, j + 1] - h**2*alpha[i, j - 1]*beta[i, j]*phi[i, j - 1] - h**2*alpha[i, j]*beta[i + 1, j]*phi[i + 1, j] + 2*h**2*alpha[i, j]*beta[i + 1, j]*phi[i, j] - h**2*alpha[i, j]*beta[i, j + 1]*phi[i, j + 1] + 2*h**2*alpha[i, j]*beta[i, j + 1]*phi[i, j] - h**2*alpha[i, j]*beta[i, j]*phi[i - 1, j] - h**2*alpha[i, j]*beta[i, j]*phi[i, j - 1] + 4*h**2*alpha[i, j]*beta[i, j]*phi[i, j] + beta[i + 1, j + 1]*beta[i + 1, j]*phi[i + 1, j + 1] - beta[i + 1, j + 1]*beta[i + 1, j]*phi[i + 1, j] + beta[i + 1, j + 1]*beta[i, j + 1]*phi[i + 1, j + 1] - beta[i + 1, j + 1]*beta[i, j + 1]*phi[i, j + 1] + beta[i + 1, j - 1]*beta[i, j]*phi[i + 1, j - 1] - beta[i + 1, j - 1]*beta[i, j]*phi[i, j - 1] + beta[i + 1, j]**2*phi[i + 1, j - 1] - 3*beta[i + 1, j]**2*phi[i + 1, j] + 2*beta[i + 1, j]**2*phi[i, j] - beta[i + 1, j]*beta[i + 2, j]*phi[i + 1, j] + beta[i + 1, j]*beta[i + 2, j]*phi[i + 2, j] - beta[i + 1, j]*beta[i, j + 1]*phi[i + 1, j] - beta[i + 1, j]*beta[i, j + 1]*phi[i, j + 1] + 2*beta[i + 1, j]*beta[i, j + 1]*phi[i, j] - 2*beta[i + 1, j]*beta[i, j]*phi[i + 1, j] - beta[i + 1, j]*beta[i, j]*phi[i - 1, j] - beta[i + 1, j]*beta[i, j]*phi[i, j - 1] + 4*beta[i + 1, j]*beta[i, j]*phi[i, j] + beta[i - 1, j + 1]*beta[i, j]*phi[i - 1, j + 1] - beta[i - 1, j + 1]*beta[i, j]*phi[i - 1, j] + beta[i - 1, j]*beta[i, j]*phi[i - 1, j - 1] - 2*beta[i - 1, j]*beta[i, j]*phi[i - 1, j] + beta[i - 1, j]*beta[i, j]*phi[i - 2, j] + beta[i, j + 1]**2*phi[i - 1, j + 1] - 3*beta[i, j + 1]**2*phi[i, j + 1] + 2*beta[i, j + 1]**2*phi[i, j] - beta[i, j + 1]*beta[i, j + 2]*phi[i, j + 1] + beta[i, j + 1]*beta[i, j + 2]*phi[i, j + 2] - beta[i, j + 1]*beta[i, j]*phi[i - 1, j] - 2*beta[i, j + 1]*beta[i, j]*phi[i, j + 1] - beta[i, j + 1]*beta[i, j]*phi[i, j - 1] + 4*beta[i, j + 1]*beta[i, j]*phi[i, j] + beta[i, j - 1]*beta[i, j]*phi[i - 1, j - 1] - 2*beta[i, j - 1]*beta[i, j]*phi[i, j - 1] + beta[i, j - 1]*beta[i, j]*phi[i, j - 2] - 3*beta[i, j]**2*phi[i - 1, j] - 3*beta[i, j]**2*phi[i, j - 1] + 6*beta[i, j]**2*phi[i, j])*phi[i, j]"
      ]
     },
     "metadata": {},
     "output_type": "display_data"
    },
    {
     "data": {
      "text/latex": [
       "$\\displaystyle {\\phi}_{i - 2,j - 2} {\\phi}_{i,j}$"
      ],
      "text/plain": [
       "phi[i - 2, j - 2]*phi[i, j]"
      ]
     },
     "metadata": {},
     "output_type": "display_data"
    },
    {
     "data": {
      "text/latex": [
       "$\\displaystyle 0$"
      ],
      "text/plain": [
       "0"
      ]
     },
     "metadata": {},
     "output_type": "display_data"
    },
    {
     "name": "stdout",
     "output_type": "stream",
     "text": [
      "----\n"
     ]
    },
    {
     "data": {
      "text/latex": [
       "$\\displaystyle {\\phi}_{i - 2,j - 1} {\\phi}_{i,j}$"
      ],
      "text/plain": [
       "phi[i - 2, j - 1]*phi[i, j]"
      ]
     },
     "metadata": {},
     "output_type": "display_data"
    },
    {
     "data": {
      "text/latex": [
       "$\\displaystyle 0$"
      ],
      "text/plain": [
       "0"
      ]
     },
     "metadata": {},
     "output_type": "display_data"
    },
    {
     "name": "stdout",
     "output_type": "stream",
     "text": [
      "----\n"
     ]
    },
    {
     "data": {
      "text/latex": [
       "$\\displaystyle {\\phi}_{i - 2,j} {\\phi}_{i,j}$"
      ],
      "text/plain": [
       "phi[i - 2, j]*phi[i, j]"
      ]
     },
     "metadata": {},
     "output_type": "display_data"
    },
    {
     "data": {
      "text/latex": [
       "$\\displaystyle {\\beta}_{i - 1,j} {\\beta}_{i,j}$"
      ],
      "text/plain": [
       "beta[i - 1, j]*beta[i, j]"
      ]
     },
     "metadata": {},
     "output_type": "display_data"
    },
    {
     "name": "stdout",
     "output_type": "stream",
     "text": [
      "----\n"
     ]
    },
    {
     "data": {
      "text/latex": [
       "$\\displaystyle {\\phi}_{i - 2,j + 1} {\\phi}_{i,j}$"
      ],
      "text/plain": [
       "phi[i - 2, j + 1]*phi[i, j]"
      ]
     },
     "metadata": {},
     "output_type": "display_data"
    },
    {
     "data": {
      "text/latex": [
       "$\\displaystyle 0$"
      ],
      "text/plain": [
       "0"
      ]
     },
     "metadata": {},
     "output_type": "display_data"
    },
    {
     "name": "stdout",
     "output_type": "stream",
     "text": [
      "----\n"
     ]
    },
    {
     "data": {
      "text/latex": [
       "$\\displaystyle {\\phi}_{i - 2,j + 2} {\\phi}_{i,j}$"
      ],
      "text/plain": [
       "phi[i - 2, j + 2]*phi[i, j]"
      ]
     },
     "metadata": {},
     "output_type": "display_data"
    },
    {
     "data": {
      "text/latex": [
       "$\\displaystyle 0$"
      ],
      "text/plain": [
       "0"
      ]
     },
     "metadata": {},
     "output_type": "display_data"
    },
    {
     "name": "stdout",
     "output_type": "stream",
     "text": [
      "----\n"
     ]
    },
    {
     "ename": "KeyboardInterrupt",
     "evalue": "",
     "output_type": "error",
     "traceback": [
      "\u001b[0;31m---------------------------------------------------------------------------\u001b[0m",
      "\u001b[0;31mKeyboardInterrupt\u001b[0m                         Traceback (most recent call last)",
      "Cell \u001b[0;32mIn [157], line 13\u001b[0m\n\u001b[1;32m     11\u001b[0m \u001b[39m#table[offset_i+2,offset_j+2] = coeff\u001b[39;00m\n\u001b[1;32m     12\u001b[0m \u001b[39mprint\u001b[39m(\u001b[39m\"\u001b[39m\u001b[39m----\u001b[39m\u001b[39m\"\u001b[39m)\n\u001b[0;32m---> 13\u001b[0m action_3_expr \u001b[39m=\u001b[39m simplify(action_3_expr \u001b[39m-\u001b[39;49m coeff \u001b[39m*\u001b[39;49m term)\n",
      "File \u001b[0;32m/usr/lib/python3/dist-packages/sympy/simplify/simplify.py:757\u001b[0m, in \u001b[0;36msimplify\u001b[0;34m(expr, ratio, measure, rational, inverse, doit, **kwargs)\u001b[0m\n\u001b[1;32m    754\u001b[0m \u001b[39mif\u001b[39;00m floats \u001b[39mand\u001b[39;00m rational \u001b[39mis\u001b[39;00m \u001b[39mNone\u001b[39;00m:\n\u001b[1;32m    755\u001b[0m     expr \u001b[39m=\u001b[39m nfloat(expr, exponent\u001b[39m=\u001b[39m\u001b[39mFalse\u001b[39;00m)\n\u001b[0;32m--> 757\u001b[0m \u001b[39mreturn\u001b[39;00m done(expr)\n",
      "File \u001b[0;32m/usr/lib/python3/dist-packages/sympy/simplify/simplify.py:576\u001b[0m, in \u001b[0;36msimplify.<locals>.done\u001b[0;34m(e)\u001b[0m\n\u001b[1;32m    575\u001b[0m \u001b[39mdef\u001b[39;00m \u001b[39mdone\u001b[39m(e):\n\u001b[0;32m--> 576\u001b[0m     rv \u001b[39m=\u001b[39m e\u001b[39m.\u001b[39;49mdoit() \u001b[39mif\u001b[39;00m doit \u001b[39melse\u001b[39;00m e\n\u001b[1;32m    577\u001b[0m     \u001b[39mreturn\u001b[39;00m shorter(rv, collect_abs(rv))\n",
      "File \u001b[0;32m/usr/lib/python3/dist-packages/sympy/core/operations.py:432\u001b[0m, in \u001b[0;36mAssocOp.doit\u001b[0;34m(self, **hints)\u001b[0m\n\u001b[1;32m    430\u001b[0m \u001b[39mdef\u001b[39;00m \u001b[39mdoit\u001b[39m(\u001b[39mself\u001b[39m, \u001b[39m*\u001b[39m\u001b[39m*\u001b[39mhints):\n\u001b[1;32m    431\u001b[0m     \u001b[39mif\u001b[39;00m hints\u001b[39m.\u001b[39mget(\u001b[39m'\u001b[39m\u001b[39mdeep\u001b[39m\u001b[39m'\u001b[39m, \u001b[39mTrue\u001b[39;00m):\n\u001b[0;32m--> 432\u001b[0m         terms \u001b[39m=\u001b[39m [term\u001b[39m.\u001b[39mdoit(\u001b[39m*\u001b[39m\u001b[39m*\u001b[39mhints) \u001b[39mfor\u001b[39;00m term \u001b[39min\u001b[39;00m \u001b[39mself\u001b[39m\u001b[39m.\u001b[39margs]\n\u001b[1;32m    433\u001b[0m     \u001b[39melse\u001b[39;00m:\n\u001b[1;32m    434\u001b[0m         terms \u001b[39m=\u001b[39m \u001b[39mself\u001b[39m\u001b[39m.\u001b[39margs\n",
      "File \u001b[0;32m/usr/lib/python3/dist-packages/sympy/core/operations.py:432\u001b[0m, in \u001b[0;36m<listcomp>\u001b[0;34m(.0)\u001b[0m\n\u001b[1;32m    430\u001b[0m \u001b[39mdef\u001b[39;00m \u001b[39mdoit\u001b[39m(\u001b[39mself\u001b[39m, \u001b[39m*\u001b[39m\u001b[39m*\u001b[39mhints):\n\u001b[1;32m    431\u001b[0m     \u001b[39mif\u001b[39;00m hints\u001b[39m.\u001b[39mget(\u001b[39m'\u001b[39m\u001b[39mdeep\u001b[39m\u001b[39m'\u001b[39m, \u001b[39mTrue\u001b[39;00m):\n\u001b[0;32m--> 432\u001b[0m         terms \u001b[39m=\u001b[39m [term\u001b[39m.\u001b[39;49mdoit(\u001b[39m*\u001b[39;49m\u001b[39m*\u001b[39;49mhints) \u001b[39mfor\u001b[39;00m term \u001b[39min\u001b[39;00m \u001b[39mself\u001b[39m\u001b[39m.\u001b[39margs]\n\u001b[1;32m    433\u001b[0m     \u001b[39melse\u001b[39;00m:\n\u001b[1;32m    434\u001b[0m         terms \u001b[39m=\u001b[39m \u001b[39mself\u001b[39m\u001b[39m.\u001b[39margs\n",
      "File \u001b[0;32m/usr/lib/python3/dist-packages/sympy/core/operations.py:432\u001b[0m, in \u001b[0;36mAssocOp.doit\u001b[0;34m(self, **hints)\u001b[0m\n\u001b[1;32m    430\u001b[0m \u001b[39mdef\u001b[39;00m \u001b[39mdoit\u001b[39m(\u001b[39mself\u001b[39m, \u001b[39m*\u001b[39m\u001b[39m*\u001b[39mhints):\n\u001b[1;32m    431\u001b[0m     \u001b[39mif\u001b[39;00m hints\u001b[39m.\u001b[39mget(\u001b[39m'\u001b[39m\u001b[39mdeep\u001b[39m\u001b[39m'\u001b[39m, \u001b[39mTrue\u001b[39;00m):\n\u001b[0;32m--> 432\u001b[0m         terms \u001b[39m=\u001b[39m [term\u001b[39m.\u001b[39mdoit(\u001b[39m*\u001b[39m\u001b[39m*\u001b[39mhints) \u001b[39mfor\u001b[39;00m term \u001b[39min\u001b[39;00m \u001b[39mself\u001b[39m\u001b[39m.\u001b[39margs]\n\u001b[1;32m    433\u001b[0m     \u001b[39melse\u001b[39;00m:\n\u001b[1;32m    434\u001b[0m         terms \u001b[39m=\u001b[39m \u001b[39mself\u001b[39m\u001b[39m.\u001b[39margs\n",
      "File \u001b[0;32m/usr/lib/python3/dist-packages/sympy/core/operations.py:432\u001b[0m, in \u001b[0;36m<listcomp>\u001b[0;34m(.0)\u001b[0m\n\u001b[1;32m    430\u001b[0m \u001b[39mdef\u001b[39;00m \u001b[39mdoit\u001b[39m(\u001b[39mself\u001b[39m, \u001b[39m*\u001b[39m\u001b[39m*\u001b[39mhints):\n\u001b[1;32m    431\u001b[0m     \u001b[39mif\u001b[39;00m hints\u001b[39m.\u001b[39mget(\u001b[39m'\u001b[39m\u001b[39mdeep\u001b[39m\u001b[39m'\u001b[39m, \u001b[39mTrue\u001b[39;00m):\n\u001b[0;32m--> 432\u001b[0m         terms \u001b[39m=\u001b[39m [term\u001b[39m.\u001b[39;49mdoit(\u001b[39m*\u001b[39;49m\u001b[39m*\u001b[39;49mhints) \u001b[39mfor\u001b[39;00m term \u001b[39min\u001b[39;00m \u001b[39mself\u001b[39m\u001b[39m.\u001b[39margs]\n\u001b[1;32m    433\u001b[0m     \u001b[39melse\u001b[39;00m:\n\u001b[1;32m    434\u001b[0m         terms \u001b[39m=\u001b[39m \u001b[39mself\u001b[39m\u001b[39m.\u001b[39margs\n",
      "File \u001b[0;32m/usr/lib/python3/dist-packages/sympy/core/operations.py:435\u001b[0m, in \u001b[0;36mAssocOp.doit\u001b[0;34m(self, **hints)\u001b[0m\n\u001b[1;32m    433\u001b[0m \u001b[39melse\u001b[39;00m:\n\u001b[1;32m    434\u001b[0m     terms \u001b[39m=\u001b[39m \u001b[39mself\u001b[39m\u001b[39m.\u001b[39margs\n\u001b[0;32m--> 435\u001b[0m \u001b[39mreturn\u001b[39;00m \u001b[39mself\u001b[39;49m\u001b[39m.\u001b[39;49mfunc(\u001b[39m*\u001b[39;49mterms, evaluate\u001b[39m=\u001b[39;49m\u001b[39mTrue\u001b[39;49;00m)\n",
      "File \u001b[0;32m/usr/lib/python3/dist-packages/sympy/core/cache.py:72\u001b[0m, in \u001b[0;36m__cacheit.<locals>.func_wrapper.<locals>.wrapper\u001b[0;34m(*args, **kwargs)\u001b[0m\n\u001b[1;32m     69\u001b[0m \u001b[39m@wraps\u001b[39m(func)\n\u001b[1;32m     70\u001b[0m \u001b[39mdef\u001b[39;00m \u001b[39mwrapper\u001b[39m(\u001b[39m*\u001b[39margs, \u001b[39m*\u001b[39m\u001b[39m*\u001b[39mkwargs):\n\u001b[1;32m     71\u001b[0m     \u001b[39mtry\u001b[39;00m:\n\u001b[0;32m---> 72\u001b[0m         retval \u001b[39m=\u001b[39m cfunc(\u001b[39m*\u001b[39;49margs, \u001b[39m*\u001b[39;49m\u001b[39m*\u001b[39;49mkwargs)\n\u001b[1;32m     73\u001b[0m     \u001b[39mexcept\u001b[39;00m \u001b[39mTypeError\u001b[39;00m \u001b[39mas\u001b[39;00m e:\n\u001b[1;32m     74\u001b[0m         \u001b[39mif\u001b[39;00m \u001b[39mnot\u001b[39;00m e\u001b[39m.\u001b[39margs \u001b[39mor\u001b[39;00m \u001b[39mnot\u001b[39;00m e\u001b[39m.\u001b[39margs[\u001b[39m0\u001b[39m]\u001b[39m.\u001b[39mstartswith(\u001b[39m'\u001b[39m\u001b[39munhashable type:\u001b[39m\u001b[39m'\u001b[39m):\n",
      "File \u001b[0;32m/usr/lib/python3/dist-packages/sympy/core/operations.py:48\u001b[0m, in \u001b[0;36mAssocOp.__new__\u001b[0;34m(cls, evaluate, _sympify, *args)\u001b[0m\n\u001b[1;32m     46\u001b[0m \u001b[39m@cacheit\u001b[39m\n\u001b[1;32m     47\u001b[0m \u001b[39mdef\u001b[39;00m \u001b[39m__new__\u001b[39m(\u001b[39mcls\u001b[39m, \u001b[39m*\u001b[39margs, evaluate\u001b[39m=\u001b[39m\u001b[39mNone\u001b[39;00m, _sympify\u001b[39m=\u001b[39m\u001b[39mTrue\u001b[39;00m):\n\u001b[0;32m---> 48\u001b[0m     \u001b[39mfrom\u001b[39;00m \u001b[39msympy\u001b[39;00m \u001b[39mimport\u001b[39;00m Order\n\u001b[1;32m     50\u001b[0m     \u001b[39m# Allow faster processing by passing ``_sympify=False``, if all arguments\u001b[39;00m\n\u001b[1;32m     51\u001b[0m     \u001b[39m# are already sympified.\u001b[39;00m\n\u001b[1;32m     52\u001b[0m     \u001b[39mif\u001b[39;00m _sympify:\n",
      "File \u001b[0;32m<frozen importlib._bootstrap>:1064\u001b[0m, in \u001b[0;36m_handle_fromlist\u001b[0;34m(module, fromlist, import_, recursive)\u001b[0m\n",
      "\u001b[0;31mKeyboardInterrupt\u001b[0m: "
     ]
    }
   ],
   "source": [
    "action_3 = action**2\n",
    "display(simplify(action_3.expr))\n",
    "action_3_expr = action_3.expr\n",
    "table = np.empty((5,5),dtype=np.int32)\n",
    "for offset_i in range(-2,3):\n",
    "    for offset_j in range(-2,3):\n",
    "        term = phi[i,j]*phi[i+offset_i,j+offset_j]\n",
    "        coeff = expand(action_3_expr).coeff(term)\n",
    "        display(term)\n",
    "        display(coeff)\n",
    "        #table[offset_i+2,offset_j+2] = coeff\n",
    "        print(\"----\")\n",
    "        action_3_expr = simplify(action_3_expr - coeff * term)\n",
    "\n"
   ]
  },
  {
   "cell_type": "code",
   "execution_count": 43,
   "metadata": {},
   "outputs": [
    {
     "ename": "IndexException",
     "evalue": "\nRange is not defined for all indices in: alpha[i + 1, j]",
     "output_type": "error",
     "traceback": [
      "\u001b[0;31m---------------------------------------------------------------------------\u001b[0m",
      "\u001b[0;31mIndexException\u001b[0m                            Traceback (most recent call last)",
      "\u001b[0;32m<ipython-input-43-580974aef026>\u001b[0m in \u001b[0;36m<module>\u001b[0;34m\u001b[0m\n\u001b[0;32m----> 1\u001b[0;31m \u001b[0mprint\u001b[0m\u001b[0;34m(\u001b[0m\u001b[0mccode\u001b[0m\u001b[0;34m(\u001b[0m\u001b[0msimplify\u001b[0m\u001b[0;34m(\u001b[0m\u001b[0maction_3\u001b[0m\u001b[0;34m.\u001b[0m\u001b[0mexpr\u001b[0m\u001b[0;34m)\u001b[0m\u001b[0;34m)\u001b[0m\u001b[0;34m)\u001b[0m\u001b[0;34m\u001b[0m\u001b[0;34m\u001b[0m\u001b[0m\n\u001b[0m",
      "\u001b[0;32m/usr/local/lib/python3.9/site-packages/sympy/printing/codeprinter.py\u001b[0m in \u001b[0;36mccode\u001b[0;34m(expr, assign_to, standard, **settings)\u001b[0m\n\u001b[1;32m    727\u001b[0m     \"\"\"\n\u001b[1;32m    728\u001b[0m     \u001b[0;32mfrom\u001b[0m \u001b[0msympy\u001b[0m\u001b[0;34m.\u001b[0m\u001b[0mprinting\u001b[0m\u001b[0;34m.\u001b[0m\u001b[0mc\u001b[0m \u001b[0;32mimport\u001b[0m \u001b[0mc_code_printers\u001b[0m\u001b[0;34m\u001b[0m\u001b[0;34m\u001b[0m\u001b[0m\n\u001b[0;32m--> 729\u001b[0;31m     \u001b[0;32mreturn\u001b[0m \u001b[0mc_code_printers\u001b[0m\u001b[0;34m[\u001b[0m\u001b[0mstandard\u001b[0m\u001b[0;34m.\u001b[0m\u001b[0mlower\u001b[0m\u001b[0;34m(\u001b[0m\u001b[0;34m)\u001b[0m\u001b[0;34m]\u001b[0m\u001b[0;34m(\u001b[0m\u001b[0msettings\u001b[0m\u001b[0;34m)\u001b[0m\u001b[0;34m.\u001b[0m\u001b[0mdoprint\u001b[0m\u001b[0;34m(\u001b[0m\u001b[0mexpr\u001b[0m\u001b[0;34m,\u001b[0m \u001b[0massign_to\u001b[0m\u001b[0;34m)\u001b[0m\u001b[0;34m\u001b[0m\u001b[0;34m\u001b[0m\u001b[0m\n\u001b[0m\u001b[1;32m    730\u001b[0m \u001b[0;34m\u001b[0m\u001b[0m\n\u001b[1;32m    731\u001b[0m \u001b[0;32mdef\u001b[0m \u001b[0mprint_ccode\u001b[0m\u001b[0;34m(\u001b[0m\u001b[0mexpr\u001b[0m\u001b[0;34m,\u001b[0m \u001b[0;34m**\u001b[0m\u001b[0msettings\u001b[0m\u001b[0;34m)\u001b[0m\u001b[0;34m:\u001b[0m\u001b[0;34m\u001b[0m\u001b[0;34m\u001b[0m\u001b[0m\n",
      "\u001b[0;32m/usr/local/lib/python3.9/site-packages/sympy/printing/codeprinter.py\u001b[0m in \u001b[0;36mdoprint\u001b[0;34m(self, expr, assign_to)\u001b[0m\n\u001b[1;32m    148\u001b[0m         \u001b[0mself\u001b[0m\u001b[0;34m.\u001b[0m\u001b[0m_number_symbols\u001b[0m \u001b[0;34m=\u001b[0m \u001b[0mset\u001b[0m\u001b[0;34m(\u001b[0m\u001b[0;34m)\u001b[0m  \u001b[0;31m# type: tSet[tTuple[Expr, Float]]\u001b[0m\u001b[0;34m\u001b[0m\u001b[0;34m\u001b[0m\u001b[0m\n\u001b[1;32m    149\u001b[0m \u001b[0;34m\u001b[0m\u001b[0m\n\u001b[0;32m--> 150\u001b[0;31m         \u001b[0mlines\u001b[0m \u001b[0;34m=\u001b[0m \u001b[0mself\u001b[0m\u001b[0;34m.\u001b[0m\u001b[0m_print\u001b[0m\u001b[0;34m(\u001b[0m\u001b[0mexpr\u001b[0m\u001b[0;34m)\u001b[0m\u001b[0;34m.\u001b[0m\u001b[0msplitlines\u001b[0m\u001b[0;34m(\u001b[0m\u001b[0;34m)\u001b[0m\u001b[0;34m\u001b[0m\u001b[0;34m\u001b[0m\u001b[0m\n\u001b[0m\u001b[1;32m    151\u001b[0m \u001b[0;34m\u001b[0m\u001b[0m\n\u001b[1;32m    152\u001b[0m         \u001b[0;31m# format the output\u001b[0m\u001b[0;34m\u001b[0m\u001b[0;34m\u001b[0m\u001b[0m\n",
      "\u001b[0;32m/usr/local/lib/python3.9/site-packages/sympy/printing/printer.py\u001b[0m in \u001b[0;36m_print\u001b[0;34m(self, expr, **kwargs)\u001b[0m\n\u001b[1;32m    329\u001b[0m                 \u001b[0mprintmethod\u001b[0m \u001b[0;34m=\u001b[0m \u001b[0mgetattr\u001b[0m\u001b[0;34m(\u001b[0m\u001b[0mself\u001b[0m\u001b[0;34m,\u001b[0m \u001b[0mprintmethodname\u001b[0m\u001b[0;34m,\u001b[0m \u001b[0;32mNone\u001b[0m\u001b[0;34m)\u001b[0m\u001b[0;34m\u001b[0m\u001b[0;34m\u001b[0m\u001b[0m\n\u001b[1;32m    330\u001b[0m                 \u001b[0;32mif\u001b[0m \u001b[0mprintmethod\u001b[0m \u001b[0;32mis\u001b[0m \u001b[0;32mnot\u001b[0m \u001b[0;32mNone\u001b[0m\u001b[0;34m:\u001b[0m\u001b[0;34m\u001b[0m\u001b[0;34m\u001b[0m\u001b[0m\n\u001b[0;32m--> 331\u001b[0;31m                     \u001b[0;32mreturn\u001b[0m \u001b[0mprintmethod\u001b[0m\u001b[0;34m(\u001b[0m\u001b[0mexpr\u001b[0m\u001b[0;34m,\u001b[0m \u001b[0;34m**\u001b[0m\u001b[0mkwargs\u001b[0m\u001b[0;34m)\u001b[0m\u001b[0;34m\u001b[0m\u001b[0;34m\u001b[0m\u001b[0m\n\u001b[0m\u001b[1;32m    332\u001b[0m             \u001b[0;31m# Unknown object, fall back to the emptyPrinter.\u001b[0m\u001b[0;34m\u001b[0m\u001b[0;34m\u001b[0m\u001b[0m\n\u001b[1;32m    333\u001b[0m             \u001b[0;32mreturn\u001b[0m \u001b[0mself\u001b[0m\u001b[0;34m.\u001b[0m\u001b[0memptyPrinter\u001b[0m\u001b[0;34m(\u001b[0m\u001b[0mexpr\u001b[0m\u001b[0;34m)\u001b[0m\u001b[0;34m\u001b[0m\u001b[0;34m\u001b[0m\u001b[0m\n",
      "\u001b[0;32m/usr/local/lib/python3.9/site-packages/sympy/printing/c.py\u001b[0m in \u001b[0;36m_meth_wrapper\u001b[0;34m(self, expr, **kwargs)\u001b[0m\n\u001b[1;32m    138\u001b[0m             \u001b[0;32mreturn\u001b[0m \u001b[0;34m'%s%s'\u001b[0m \u001b[0;34m%\u001b[0m \u001b[0;34m(\u001b[0m\u001b[0mself\u001b[0m\u001b[0;34m.\u001b[0m\u001b[0mmath_macros\u001b[0m\u001b[0;34m[\u001b[0m\u001b[0mexpr\u001b[0m\u001b[0;34m]\u001b[0m\u001b[0;34m,\u001b[0m \u001b[0mself\u001b[0m\u001b[0;34m.\u001b[0m\u001b[0m_get_math_macro_suffix\u001b[0m\u001b[0;34m(\u001b[0m\u001b[0mreal\u001b[0m\u001b[0;34m)\u001b[0m\u001b[0;34m)\u001b[0m\u001b[0;34m\u001b[0m\u001b[0;34m\u001b[0m\u001b[0m\n\u001b[1;32m    139\u001b[0m         \u001b[0;32melse\u001b[0m\u001b[0;34m:\u001b[0m\u001b[0;34m\u001b[0m\u001b[0;34m\u001b[0m\u001b[0m\n\u001b[0;32m--> 140\u001b[0;31m             \u001b[0;32mreturn\u001b[0m \u001b[0mmeth\u001b[0m\u001b[0;34m(\u001b[0m\u001b[0mself\u001b[0m\u001b[0;34m,\u001b[0m \u001b[0mexpr\u001b[0m\u001b[0;34m,\u001b[0m \u001b[0;34m**\u001b[0m\u001b[0mkwargs\u001b[0m\u001b[0;34m)\u001b[0m\u001b[0;34m\u001b[0m\u001b[0;34m\u001b[0m\u001b[0m\n\u001b[0m\u001b[1;32m    141\u001b[0m \u001b[0;34m\u001b[0m\u001b[0m\n\u001b[1;32m    142\u001b[0m     \u001b[0;32mreturn\u001b[0m \u001b[0m_meth_wrapper\u001b[0m\u001b[0;34m\u001b[0m\u001b[0;34m\u001b[0m\u001b[0m\n",
      "\u001b[0;32m/usr/local/lib/python3.9/site-packages/sympy/printing/c.py\u001b[0m in \u001b[0;36m_print_Mul\u001b[0;34m(self, expr, **kwargs)\u001b[0m\n\u001b[1;32m    273\u001b[0m     \u001b[0;34m@\u001b[0m\u001b[0m_as_macro_if_defined\u001b[0m\u001b[0;34m\u001b[0m\u001b[0;34m\u001b[0m\u001b[0m\n\u001b[1;32m    274\u001b[0m     \u001b[0;32mdef\u001b[0m \u001b[0m_print_Mul\u001b[0m\u001b[0;34m(\u001b[0m\u001b[0mself\u001b[0m\u001b[0;34m,\u001b[0m \u001b[0mexpr\u001b[0m\u001b[0;34m,\u001b[0m \u001b[0;34m**\u001b[0m\u001b[0mkwargs\u001b[0m\u001b[0;34m)\u001b[0m\u001b[0;34m:\u001b[0m\u001b[0;34m\u001b[0m\u001b[0;34m\u001b[0m\u001b[0m\n\u001b[0;32m--> 275\u001b[0;31m         \u001b[0;32mreturn\u001b[0m \u001b[0msuper\u001b[0m\u001b[0;34m(\u001b[0m\u001b[0;34m)\u001b[0m\u001b[0;34m.\u001b[0m\u001b[0m_print_Mul\u001b[0m\u001b[0;34m(\u001b[0m\u001b[0mexpr\u001b[0m\u001b[0;34m,\u001b[0m \u001b[0;34m**\u001b[0m\u001b[0mkwargs\u001b[0m\u001b[0;34m)\u001b[0m\u001b[0;34m\u001b[0m\u001b[0;34m\u001b[0m\u001b[0m\n\u001b[0m\u001b[1;32m    276\u001b[0m \u001b[0;34m\u001b[0m\u001b[0m\n\u001b[1;32m    277\u001b[0m     \u001b[0;34m@\u001b[0m\u001b[0m_as_macro_if_defined\u001b[0m\u001b[0;34m\u001b[0m\u001b[0;34m\u001b[0m\u001b[0m\n",
      "\u001b[0;32m/usr/local/lib/python3.9/site-packages/sympy/printing/codeprinter.py\u001b[0m in \u001b[0;36m_print_Mul\u001b[0;34m(self, expr)\u001b[0m\n\u001b[1;32m    543\u001b[0m             \u001b[0ma_str\u001b[0m \u001b[0;34m=\u001b[0m \u001b[0;34m[\u001b[0m\u001b[0mself\u001b[0m\u001b[0;34m.\u001b[0m\u001b[0mparenthesize\u001b[0m\u001b[0;34m(\u001b[0m\u001b[0ma\u001b[0m\u001b[0;34m[\u001b[0m\u001b[0;36m0\u001b[0m\u001b[0;34m]\u001b[0m\u001b[0;34m,\u001b[0m \u001b[0;36m0.5\u001b[0m\u001b[0;34m*\u001b[0m\u001b[0;34m(\u001b[0m\u001b[0mPRECEDENCE\u001b[0m\u001b[0;34m[\u001b[0m\u001b[0;34m\"Pow\"\u001b[0m\u001b[0;34m]\u001b[0m\u001b[0;34m+\u001b[0m\u001b[0mPRECEDENCE\u001b[0m\u001b[0;34m[\u001b[0m\u001b[0;34m\"Mul\"\u001b[0m\u001b[0;34m]\u001b[0m\u001b[0;34m)\u001b[0m\u001b[0;34m)\u001b[0m\u001b[0;34m]\u001b[0m\u001b[0;34m\u001b[0m\u001b[0;34m\u001b[0m\u001b[0m\n\u001b[1;32m    544\u001b[0m         \u001b[0;32melse\u001b[0m\u001b[0;34m:\u001b[0m\u001b[0;34m\u001b[0m\u001b[0;34m\u001b[0m\u001b[0m\n\u001b[0;32m--> 545\u001b[0;31m             \u001b[0ma_str\u001b[0m \u001b[0;34m=\u001b[0m \u001b[0;34m[\u001b[0m\u001b[0mself\u001b[0m\u001b[0;34m.\u001b[0m\u001b[0mparenthesize\u001b[0m\u001b[0;34m(\u001b[0m\u001b[0mx\u001b[0m\u001b[0;34m,\u001b[0m \u001b[0mprec\u001b[0m\u001b[0;34m)\u001b[0m \u001b[0;32mfor\u001b[0m \u001b[0mx\u001b[0m \u001b[0;32min\u001b[0m \u001b[0ma\u001b[0m\u001b[0;34m]\u001b[0m\u001b[0;34m\u001b[0m\u001b[0;34m\u001b[0m\u001b[0m\n\u001b[0m\u001b[1;32m    546\u001b[0m         \u001b[0mb_str\u001b[0m \u001b[0;34m=\u001b[0m \u001b[0;34m[\u001b[0m\u001b[0mself\u001b[0m\u001b[0;34m.\u001b[0m\u001b[0mparenthesize\u001b[0m\u001b[0;34m(\u001b[0m\u001b[0mx\u001b[0m\u001b[0;34m,\u001b[0m \u001b[0mprec\u001b[0m\u001b[0;34m)\u001b[0m \u001b[0;32mfor\u001b[0m \u001b[0mx\u001b[0m \u001b[0;32min\u001b[0m \u001b[0mb\u001b[0m\u001b[0;34m]\u001b[0m\u001b[0;34m\u001b[0m\u001b[0;34m\u001b[0m\u001b[0m\n\u001b[1;32m    547\u001b[0m \u001b[0;34m\u001b[0m\u001b[0m\n",
      "\u001b[0;32m/usr/local/lib/python3.9/site-packages/sympy/printing/codeprinter.py\u001b[0m in \u001b[0;36m<listcomp>\u001b[0;34m(.0)\u001b[0m\n\u001b[1;32m    543\u001b[0m             \u001b[0ma_str\u001b[0m \u001b[0;34m=\u001b[0m \u001b[0;34m[\u001b[0m\u001b[0mself\u001b[0m\u001b[0;34m.\u001b[0m\u001b[0mparenthesize\u001b[0m\u001b[0;34m(\u001b[0m\u001b[0ma\u001b[0m\u001b[0;34m[\u001b[0m\u001b[0;36m0\u001b[0m\u001b[0;34m]\u001b[0m\u001b[0;34m,\u001b[0m \u001b[0;36m0.5\u001b[0m\u001b[0;34m*\u001b[0m\u001b[0;34m(\u001b[0m\u001b[0mPRECEDENCE\u001b[0m\u001b[0;34m[\u001b[0m\u001b[0;34m\"Pow\"\u001b[0m\u001b[0;34m]\u001b[0m\u001b[0;34m+\u001b[0m\u001b[0mPRECEDENCE\u001b[0m\u001b[0;34m[\u001b[0m\u001b[0;34m\"Mul\"\u001b[0m\u001b[0;34m]\u001b[0m\u001b[0;34m)\u001b[0m\u001b[0;34m)\u001b[0m\u001b[0;34m]\u001b[0m\u001b[0;34m\u001b[0m\u001b[0;34m\u001b[0m\u001b[0m\n\u001b[1;32m    544\u001b[0m         \u001b[0;32melse\u001b[0m\u001b[0;34m:\u001b[0m\u001b[0;34m\u001b[0m\u001b[0;34m\u001b[0m\u001b[0m\n\u001b[0;32m--> 545\u001b[0;31m             \u001b[0ma_str\u001b[0m \u001b[0;34m=\u001b[0m \u001b[0;34m[\u001b[0m\u001b[0mself\u001b[0m\u001b[0;34m.\u001b[0m\u001b[0mparenthesize\u001b[0m\u001b[0;34m(\u001b[0m\u001b[0mx\u001b[0m\u001b[0;34m,\u001b[0m \u001b[0mprec\u001b[0m\u001b[0;34m)\u001b[0m \u001b[0;32mfor\u001b[0m \u001b[0mx\u001b[0m \u001b[0;32min\u001b[0m \u001b[0ma\u001b[0m\u001b[0;34m]\u001b[0m\u001b[0;34m\u001b[0m\u001b[0;34m\u001b[0m\u001b[0m\n\u001b[0m\u001b[1;32m    546\u001b[0m         \u001b[0mb_str\u001b[0m \u001b[0;34m=\u001b[0m \u001b[0;34m[\u001b[0m\u001b[0mself\u001b[0m\u001b[0;34m.\u001b[0m\u001b[0mparenthesize\u001b[0m\u001b[0;34m(\u001b[0m\u001b[0mx\u001b[0m\u001b[0;34m,\u001b[0m \u001b[0mprec\u001b[0m\u001b[0;34m)\u001b[0m \u001b[0;32mfor\u001b[0m \u001b[0mx\u001b[0m \u001b[0;32min\u001b[0m \u001b[0mb\u001b[0m\u001b[0;34m]\u001b[0m\u001b[0;34m\u001b[0m\u001b[0;34m\u001b[0m\u001b[0m\n\u001b[1;32m    547\u001b[0m \u001b[0;34m\u001b[0m\u001b[0m\n",
      "\u001b[0;32m/usr/local/lib/python3.9/site-packages/sympy/printing/str.py\u001b[0m in \u001b[0;36mparenthesize\u001b[0;34m(self, item, level, strict)\u001b[0m\n\u001b[1;32m     35\u001b[0m     \u001b[0;32mdef\u001b[0m \u001b[0mparenthesize\u001b[0m\u001b[0;34m(\u001b[0m\u001b[0mself\u001b[0m\u001b[0;34m,\u001b[0m \u001b[0mitem\u001b[0m\u001b[0;34m,\u001b[0m \u001b[0mlevel\u001b[0m\u001b[0;34m,\u001b[0m \u001b[0mstrict\u001b[0m\u001b[0;34m=\u001b[0m\u001b[0;32mFalse\u001b[0m\u001b[0;34m)\u001b[0m\u001b[0;34m:\u001b[0m\u001b[0;34m\u001b[0m\u001b[0;34m\u001b[0m\u001b[0m\n\u001b[1;32m     36\u001b[0m         \u001b[0;32mif\u001b[0m \u001b[0;34m(\u001b[0m\u001b[0mprecedence\u001b[0m\u001b[0;34m(\u001b[0m\u001b[0mitem\u001b[0m\u001b[0;34m)\u001b[0m \u001b[0;34m<\u001b[0m \u001b[0mlevel\u001b[0m\u001b[0;34m)\u001b[0m \u001b[0;32mor\u001b[0m \u001b[0;34m(\u001b[0m\u001b[0;34m(\u001b[0m\u001b[0;32mnot\u001b[0m \u001b[0mstrict\u001b[0m\u001b[0;34m)\u001b[0m \u001b[0;32mand\u001b[0m \u001b[0mprecedence\u001b[0m\u001b[0;34m(\u001b[0m\u001b[0mitem\u001b[0m\u001b[0;34m)\u001b[0m \u001b[0;34m<=\u001b[0m \u001b[0mlevel\u001b[0m\u001b[0;34m)\u001b[0m\u001b[0;34m:\u001b[0m\u001b[0;34m\u001b[0m\u001b[0;34m\u001b[0m\u001b[0m\n\u001b[0;32m---> 37\u001b[0;31m             \u001b[0;32mreturn\u001b[0m \u001b[0;34m\"(%s)\"\u001b[0m \u001b[0;34m%\u001b[0m \u001b[0mself\u001b[0m\u001b[0;34m.\u001b[0m\u001b[0m_print\u001b[0m\u001b[0;34m(\u001b[0m\u001b[0mitem\u001b[0m\u001b[0;34m)\u001b[0m\u001b[0;34m\u001b[0m\u001b[0;34m\u001b[0m\u001b[0m\n\u001b[0m\u001b[1;32m     38\u001b[0m         \u001b[0;32melse\u001b[0m\u001b[0;34m:\u001b[0m\u001b[0;34m\u001b[0m\u001b[0;34m\u001b[0m\u001b[0m\n\u001b[1;32m     39\u001b[0m             \u001b[0;32mreturn\u001b[0m \u001b[0mself\u001b[0m\u001b[0;34m.\u001b[0m\u001b[0m_print\u001b[0m\u001b[0;34m(\u001b[0m\u001b[0mitem\u001b[0m\u001b[0;34m)\u001b[0m\u001b[0;34m\u001b[0m\u001b[0;34m\u001b[0m\u001b[0m\n",
      "\u001b[0;32m/usr/local/lib/python3.9/site-packages/sympy/printing/printer.py\u001b[0m in \u001b[0;36m_print\u001b[0;34m(self, expr, **kwargs)\u001b[0m\n\u001b[1;32m    329\u001b[0m                 \u001b[0mprintmethod\u001b[0m \u001b[0;34m=\u001b[0m \u001b[0mgetattr\u001b[0m\u001b[0;34m(\u001b[0m\u001b[0mself\u001b[0m\u001b[0;34m,\u001b[0m \u001b[0mprintmethodname\u001b[0m\u001b[0;34m,\u001b[0m \u001b[0;32mNone\u001b[0m\u001b[0;34m)\u001b[0m\u001b[0;34m\u001b[0m\u001b[0;34m\u001b[0m\u001b[0m\n\u001b[1;32m    330\u001b[0m                 \u001b[0;32mif\u001b[0m \u001b[0mprintmethod\u001b[0m \u001b[0;32mis\u001b[0m \u001b[0;32mnot\u001b[0m \u001b[0;32mNone\u001b[0m\u001b[0;34m:\u001b[0m\u001b[0;34m\u001b[0m\u001b[0;34m\u001b[0m\u001b[0m\n\u001b[0;32m--> 331\u001b[0;31m                     \u001b[0;32mreturn\u001b[0m \u001b[0mprintmethod\u001b[0m\u001b[0;34m(\u001b[0m\u001b[0mexpr\u001b[0m\u001b[0;34m,\u001b[0m \u001b[0;34m**\u001b[0m\u001b[0mkwargs\u001b[0m\u001b[0;34m)\u001b[0m\u001b[0;34m\u001b[0m\u001b[0;34m\u001b[0m\u001b[0m\n\u001b[0m\u001b[1;32m    332\u001b[0m             \u001b[0;31m# Unknown object, fall back to the emptyPrinter.\u001b[0m\u001b[0;34m\u001b[0m\u001b[0;34m\u001b[0m\u001b[0m\n\u001b[1;32m    333\u001b[0m             \u001b[0;32mreturn\u001b[0m \u001b[0mself\u001b[0m\u001b[0;34m.\u001b[0m\u001b[0memptyPrinter\u001b[0m\u001b[0;34m(\u001b[0m\u001b[0mexpr\u001b[0m\u001b[0;34m)\u001b[0m\u001b[0;34m\u001b[0m\u001b[0;34m\u001b[0m\u001b[0m\n",
      "\u001b[0;32m/usr/local/lib/python3.9/site-packages/sympy/printing/str.py\u001b[0m in \u001b[0;36m_print_Add\u001b[0;34m(self, expr, order)\u001b[0m\n\u001b[1;32m     56\u001b[0m         \u001b[0ml\u001b[0m \u001b[0;34m=\u001b[0m \u001b[0;34m[\u001b[0m\u001b[0;34m]\u001b[0m\u001b[0;34m\u001b[0m\u001b[0;34m\u001b[0m\u001b[0m\n\u001b[1;32m     57\u001b[0m         \u001b[0;32mfor\u001b[0m \u001b[0mterm\u001b[0m \u001b[0;32min\u001b[0m \u001b[0mterms\u001b[0m\u001b[0;34m:\u001b[0m\u001b[0;34m\u001b[0m\u001b[0;34m\u001b[0m\u001b[0m\n\u001b[0;32m---> 58\u001b[0;31m             \u001b[0mt\u001b[0m \u001b[0;34m=\u001b[0m \u001b[0mself\u001b[0m\u001b[0;34m.\u001b[0m\u001b[0m_print\u001b[0m\u001b[0;34m(\u001b[0m\u001b[0mterm\u001b[0m\u001b[0;34m)\u001b[0m\u001b[0;34m\u001b[0m\u001b[0;34m\u001b[0m\u001b[0m\n\u001b[0m\u001b[1;32m     59\u001b[0m             \u001b[0;32mif\u001b[0m \u001b[0mt\u001b[0m\u001b[0;34m.\u001b[0m\u001b[0mstartswith\u001b[0m\u001b[0;34m(\u001b[0m\u001b[0;34m'-'\u001b[0m\u001b[0;34m)\u001b[0m\u001b[0;34m:\u001b[0m\u001b[0;34m\u001b[0m\u001b[0;34m\u001b[0m\u001b[0m\n\u001b[1;32m     60\u001b[0m                 \u001b[0msign\u001b[0m \u001b[0;34m=\u001b[0m \u001b[0;34m\"-\"\u001b[0m\u001b[0;34m\u001b[0m\u001b[0;34m\u001b[0m\u001b[0m\n",
      "\u001b[0;32m/usr/local/lib/python3.9/site-packages/sympy/printing/printer.py\u001b[0m in \u001b[0;36m_print\u001b[0;34m(self, expr, **kwargs)\u001b[0m\n\u001b[1;32m    329\u001b[0m                 \u001b[0mprintmethod\u001b[0m \u001b[0;34m=\u001b[0m \u001b[0mgetattr\u001b[0m\u001b[0;34m(\u001b[0m\u001b[0mself\u001b[0m\u001b[0;34m,\u001b[0m \u001b[0mprintmethodname\u001b[0m\u001b[0;34m,\u001b[0m \u001b[0;32mNone\u001b[0m\u001b[0;34m)\u001b[0m\u001b[0;34m\u001b[0m\u001b[0;34m\u001b[0m\u001b[0m\n\u001b[1;32m    330\u001b[0m                 \u001b[0;32mif\u001b[0m \u001b[0mprintmethod\u001b[0m \u001b[0;32mis\u001b[0m \u001b[0;32mnot\u001b[0m \u001b[0;32mNone\u001b[0m\u001b[0;34m:\u001b[0m\u001b[0;34m\u001b[0m\u001b[0;34m\u001b[0m\u001b[0m\n\u001b[0;32m--> 331\u001b[0;31m                     \u001b[0;32mreturn\u001b[0m \u001b[0mprintmethod\u001b[0m\u001b[0;34m(\u001b[0m\u001b[0mexpr\u001b[0m\u001b[0;34m,\u001b[0m \u001b[0;34m**\u001b[0m\u001b[0mkwargs\u001b[0m\u001b[0;34m)\u001b[0m\u001b[0;34m\u001b[0m\u001b[0;34m\u001b[0m\u001b[0m\n\u001b[0m\u001b[1;32m    332\u001b[0m             \u001b[0;31m# Unknown object, fall back to the emptyPrinter.\u001b[0m\u001b[0;34m\u001b[0m\u001b[0;34m\u001b[0m\u001b[0m\n\u001b[1;32m    333\u001b[0m             \u001b[0;32mreturn\u001b[0m \u001b[0mself\u001b[0m\u001b[0;34m.\u001b[0m\u001b[0memptyPrinter\u001b[0m\u001b[0;34m(\u001b[0m\u001b[0mexpr\u001b[0m\u001b[0;34m)\u001b[0m\u001b[0;34m\u001b[0m\u001b[0;34m\u001b[0m\u001b[0m\n",
      "\u001b[0;32m/usr/local/lib/python3.9/site-packages/sympy/printing/c.py\u001b[0m in \u001b[0;36m_meth_wrapper\u001b[0;34m(self, expr, **kwargs)\u001b[0m\n\u001b[1;32m    138\u001b[0m             \u001b[0;32mreturn\u001b[0m \u001b[0;34m'%s%s'\u001b[0m \u001b[0;34m%\u001b[0m \u001b[0;34m(\u001b[0m\u001b[0mself\u001b[0m\u001b[0;34m.\u001b[0m\u001b[0mmath_macros\u001b[0m\u001b[0;34m[\u001b[0m\u001b[0mexpr\u001b[0m\u001b[0;34m]\u001b[0m\u001b[0;34m,\u001b[0m \u001b[0mself\u001b[0m\u001b[0;34m.\u001b[0m\u001b[0m_get_math_macro_suffix\u001b[0m\u001b[0;34m(\u001b[0m\u001b[0mreal\u001b[0m\u001b[0;34m)\u001b[0m\u001b[0;34m)\u001b[0m\u001b[0;34m\u001b[0m\u001b[0;34m\u001b[0m\u001b[0m\n\u001b[1;32m    139\u001b[0m         \u001b[0;32melse\u001b[0m\u001b[0;34m:\u001b[0m\u001b[0;34m\u001b[0m\u001b[0;34m\u001b[0m\u001b[0m\n\u001b[0;32m--> 140\u001b[0;31m             \u001b[0;32mreturn\u001b[0m \u001b[0mmeth\u001b[0m\u001b[0;34m(\u001b[0m\u001b[0mself\u001b[0m\u001b[0;34m,\u001b[0m \u001b[0mexpr\u001b[0m\u001b[0;34m,\u001b[0m \u001b[0;34m**\u001b[0m\u001b[0mkwargs\u001b[0m\u001b[0;34m)\u001b[0m\u001b[0;34m\u001b[0m\u001b[0;34m\u001b[0m\u001b[0m\n\u001b[0m\u001b[1;32m    141\u001b[0m \u001b[0;34m\u001b[0m\u001b[0m\n\u001b[1;32m    142\u001b[0m     \u001b[0;32mreturn\u001b[0m \u001b[0m_meth_wrapper\u001b[0m\u001b[0;34m\u001b[0m\u001b[0;34m\u001b[0m\u001b[0m\n",
      "\u001b[0;32m/usr/local/lib/python3.9/site-packages/sympy/printing/c.py\u001b[0m in \u001b[0;36m_print_Mul\u001b[0;34m(self, expr, **kwargs)\u001b[0m\n\u001b[1;32m    273\u001b[0m     \u001b[0;34m@\u001b[0m\u001b[0m_as_macro_if_defined\u001b[0m\u001b[0;34m\u001b[0m\u001b[0;34m\u001b[0m\u001b[0m\n\u001b[1;32m    274\u001b[0m     \u001b[0;32mdef\u001b[0m \u001b[0m_print_Mul\u001b[0m\u001b[0;34m(\u001b[0m\u001b[0mself\u001b[0m\u001b[0;34m,\u001b[0m \u001b[0mexpr\u001b[0m\u001b[0;34m,\u001b[0m \u001b[0;34m**\u001b[0m\u001b[0mkwargs\u001b[0m\u001b[0;34m)\u001b[0m\u001b[0;34m:\u001b[0m\u001b[0;34m\u001b[0m\u001b[0;34m\u001b[0m\u001b[0m\n\u001b[0;32m--> 275\u001b[0;31m         \u001b[0;32mreturn\u001b[0m \u001b[0msuper\u001b[0m\u001b[0;34m(\u001b[0m\u001b[0;34m)\u001b[0m\u001b[0;34m.\u001b[0m\u001b[0m_print_Mul\u001b[0m\u001b[0;34m(\u001b[0m\u001b[0mexpr\u001b[0m\u001b[0;34m,\u001b[0m \u001b[0;34m**\u001b[0m\u001b[0mkwargs\u001b[0m\u001b[0;34m)\u001b[0m\u001b[0;34m\u001b[0m\u001b[0;34m\u001b[0m\u001b[0m\n\u001b[0m\u001b[1;32m    276\u001b[0m \u001b[0;34m\u001b[0m\u001b[0m\n\u001b[1;32m    277\u001b[0m     \u001b[0;34m@\u001b[0m\u001b[0m_as_macro_if_defined\u001b[0m\u001b[0;34m\u001b[0m\u001b[0;34m\u001b[0m\u001b[0m\n",
      "\u001b[0;32m/usr/local/lib/python3.9/site-packages/sympy/printing/codeprinter.py\u001b[0m in \u001b[0;36m_print_Mul\u001b[0;34m(self, expr)\u001b[0m\n\u001b[1;32m    543\u001b[0m             \u001b[0ma_str\u001b[0m \u001b[0;34m=\u001b[0m \u001b[0;34m[\u001b[0m\u001b[0mself\u001b[0m\u001b[0;34m.\u001b[0m\u001b[0mparenthesize\u001b[0m\u001b[0;34m(\u001b[0m\u001b[0ma\u001b[0m\u001b[0;34m[\u001b[0m\u001b[0;36m0\u001b[0m\u001b[0;34m]\u001b[0m\u001b[0;34m,\u001b[0m \u001b[0;36m0.5\u001b[0m\u001b[0;34m*\u001b[0m\u001b[0;34m(\u001b[0m\u001b[0mPRECEDENCE\u001b[0m\u001b[0;34m[\u001b[0m\u001b[0;34m\"Pow\"\u001b[0m\u001b[0;34m]\u001b[0m\u001b[0;34m+\u001b[0m\u001b[0mPRECEDENCE\u001b[0m\u001b[0;34m[\u001b[0m\u001b[0;34m\"Mul\"\u001b[0m\u001b[0;34m]\u001b[0m\u001b[0;34m)\u001b[0m\u001b[0;34m)\u001b[0m\u001b[0;34m]\u001b[0m\u001b[0;34m\u001b[0m\u001b[0;34m\u001b[0m\u001b[0m\n\u001b[1;32m    544\u001b[0m         \u001b[0;32melse\u001b[0m\u001b[0;34m:\u001b[0m\u001b[0;34m\u001b[0m\u001b[0;34m\u001b[0m\u001b[0m\n\u001b[0;32m--> 545\u001b[0;31m             \u001b[0ma_str\u001b[0m \u001b[0;34m=\u001b[0m \u001b[0;34m[\u001b[0m\u001b[0mself\u001b[0m\u001b[0;34m.\u001b[0m\u001b[0mparenthesize\u001b[0m\u001b[0;34m(\u001b[0m\u001b[0mx\u001b[0m\u001b[0;34m,\u001b[0m \u001b[0mprec\u001b[0m\u001b[0;34m)\u001b[0m \u001b[0;32mfor\u001b[0m \u001b[0mx\u001b[0m \u001b[0;32min\u001b[0m \u001b[0ma\u001b[0m\u001b[0;34m]\u001b[0m\u001b[0;34m\u001b[0m\u001b[0;34m\u001b[0m\u001b[0m\n\u001b[0m\u001b[1;32m    546\u001b[0m         \u001b[0mb_str\u001b[0m \u001b[0;34m=\u001b[0m \u001b[0;34m[\u001b[0m\u001b[0mself\u001b[0m\u001b[0;34m.\u001b[0m\u001b[0mparenthesize\u001b[0m\u001b[0;34m(\u001b[0m\u001b[0mx\u001b[0m\u001b[0;34m,\u001b[0m \u001b[0mprec\u001b[0m\u001b[0;34m)\u001b[0m \u001b[0;32mfor\u001b[0m \u001b[0mx\u001b[0m \u001b[0;32min\u001b[0m \u001b[0mb\u001b[0m\u001b[0;34m]\u001b[0m\u001b[0;34m\u001b[0m\u001b[0;34m\u001b[0m\u001b[0m\n\u001b[1;32m    547\u001b[0m \u001b[0;34m\u001b[0m\u001b[0m\n",
      "\u001b[0;32m/usr/local/lib/python3.9/site-packages/sympy/printing/codeprinter.py\u001b[0m in \u001b[0;36m<listcomp>\u001b[0;34m(.0)\u001b[0m\n\u001b[1;32m    543\u001b[0m             \u001b[0ma_str\u001b[0m \u001b[0;34m=\u001b[0m \u001b[0;34m[\u001b[0m\u001b[0mself\u001b[0m\u001b[0;34m.\u001b[0m\u001b[0mparenthesize\u001b[0m\u001b[0;34m(\u001b[0m\u001b[0ma\u001b[0m\u001b[0;34m[\u001b[0m\u001b[0;36m0\u001b[0m\u001b[0;34m]\u001b[0m\u001b[0;34m,\u001b[0m \u001b[0;36m0.5\u001b[0m\u001b[0;34m*\u001b[0m\u001b[0;34m(\u001b[0m\u001b[0mPRECEDENCE\u001b[0m\u001b[0;34m[\u001b[0m\u001b[0;34m\"Pow\"\u001b[0m\u001b[0;34m]\u001b[0m\u001b[0;34m+\u001b[0m\u001b[0mPRECEDENCE\u001b[0m\u001b[0;34m[\u001b[0m\u001b[0;34m\"Mul\"\u001b[0m\u001b[0;34m]\u001b[0m\u001b[0;34m)\u001b[0m\u001b[0;34m)\u001b[0m\u001b[0;34m]\u001b[0m\u001b[0;34m\u001b[0m\u001b[0;34m\u001b[0m\u001b[0m\n\u001b[1;32m    544\u001b[0m         \u001b[0;32melse\u001b[0m\u001b[0;34m:\u001b[0m\u001b[0;34m\u001b[0m\u001b[0;34m\u001b[0m\u001b[0m\n\u001b[0;32m--> 545\u001b[0;31m             \u001b[0ma_str\u001b[0m \u001b[0;34m=\u001b[0m \u001b[0;34m[\u001b[0m\u001b[0mself\u001b[0m\u001b[0;34m.\u001b[0m\u001b[0mparenthesize\u001b[0m\u001b[0;34m(\u001b[0m\u001b[0mx\u001b[0m\u001b[0;34m,\u001b[0m \u001b[0mprec\u001b[0m\u001b[0;34m)\u001b[0m \u001b[0;32mfor\u001b[0m \u001b[0mx\u001b[0m \u001b[0;32min\u001b[0m \u001b[0ma\u001b[0m\u001b[0;34m]\u001b[0m\u001b[0;34m\u001b[0m\u001b[0;34m\u001b[0m\u001b[0m\n\u001b[0m\u001b[1;32m    546\u001b[0m         \u001b[0mb_str\u001b[0m \u001b[0;34m=\u001b[0m \u001b[0;34m[\u001b[0m\u001b[0mself\u001b[0m\u001b[0;34m.\u001b[0m\u001b[0mparenthesize\u001b[0m\u001b[0;34m(\u001b[0m\u001b[0mx\u001b[0m\u001b[0;34m,\u001b[0m \u001b[0mprec\u001b[0m\u001b[0;34m)\u001b[0m \u001b[0;32mfor\u001b[0m \u001b[0mx\u001b[0m \u001b[0;32min\u001b[0m \u001b[0mb\u001b[0m\u001b[0;34m]\u001b[0m\u001b[0;34m\u001b[0m\u001b[0;34m\u001b[0m\u001b[0m\n\u001b[1;32m    547\u001b[0m \u001b[0;34m\u001b[0m\u001b[0m\n",
      "\u001b[0;32m/usr/local/lib/python3.9/site-packages/sympy/printing/str.py\u001b[0m in \u001b[0;36mparenthesize\u001b[0;34m(self, item, level, strict)\u001b[0m\n\u001b[1;32m     37\u001b[0m             \u001b[0;32mreturn\u001b[0m \u001b[0;34m\"(%s)\"\u001b[0m \u001b[0;34m%\u001b[0m \u001b[0mself\u001b[0m\u001b[0;34m.\u001b[0m\u001b[0m_print\u001b[0m\u001b[0;34m(\u001b[0m\u001b[0mitem\u001b[0m\u001b[0;34m)\u001b[0m\u001b[0;34m\u001b[0m\u001b[0;34m\u001b[0m\u001b[0m\n\u001b[1;32m     38\u001b[0m         \u001b[0;32melse\u001b[0m\u001b[0;34m:\u001b[0m\u001b[0;34m\u001b[0m\u001b[0;34m\u001b[0m\u001b[0m\n\u001b[0;32m---> 39\u001b[0;31m             \u001b[0;32mreturn\u001b[0m \u001b[0mself\u001b[0m\u001b[0;34m.\u001b[0m\u001b[0m_print\u001b[0m\u001b[0;34m(\u001b[0m\u001b[0mitem\u001b[0m\u001b[0;34m)\u001b[0m\u001b[0;34m\u001b[0m\u001b[0;34m\u001b[0m\u001b[0m\n\u001b[0m\u001b[1;32m     40\u001b[0m \u001b[0;34m\u001b[0m\u001b[0m\n\u001b[1;32m     41\u001b[0m     \u001b[0;32mdef\u001b[0m \u001b[0mstringify\u001b[0m\u001b[0;34m(\u001b[0m\u001b[0mself\u001b[0m\u001b[0;34m,\u001b[0m \u001b[0margs\u001b[0m\u001b[0;34m,\u001b[0m \u001b[0msep\u001b[0m\u001b[0;34m,\u001b[0m \u001b[0mlevel\u001b[0m\u001b[0;34m=\u001b[0m\u001b[0;36m0\u001b[0m\u001b[0;34m)\u001b[0m\u001b[0;34m:\u001b[0m\u001b[0;34m\u001b[0m\u001b[0;34m\u001b[0m\u001b[0m\n",
      "\u001b[0;32m/usr/local/lib/python3.9/site-packages/sympy/printing/printer.py\u001b[0m in \u001b[0;36m_print\u001b[0;34m(self, expr, **kwargs)\u001b[0m\n\u001b[1;32m    329\u001b[0m                 \u001b[0mprintmethod\u001b[0m \u001b[0;34m=\u001b[0m \u001b[0mgetattr\u001b[0m\u001b[0;34m(\u001b[0m\u001b[0mself\u001b[0m\u001b[0;34m,\u001b[0m \u001b[0mprintmethodname\u001b[0m\u001b[0;34m,\u001b[0m \u001b[0;32mNone\u001b[0m\u001b[0;34m)\u001b[0m\u001b[0;34m\u001b[0m\u001b[0;34m\u001b[0m\u001b[0m\n\u001b[1;32m    330\u001b[0m                 \u001b[0;32mif\u001b[0m \u001b[0mprintmethod\u001b[0m \u001b[0;32mis\u001b[0m \u001b[0;32mnot\u001b[0m \u001b[0;32mNone\u001b[0m\u001b[0;34m:\u001b[0m\u001b[0;34m\u001b[0m\u001b[0;34m\u001b[0m\u001b[0m\n\u001b[0;32m--> 331\u001b[0;31m                     \u001b[0;32mreturn\u001b[0m \u001b[0mprintmethod\u001b[0m\u001b[0;34m(\u001b[0m\u001b[0mexpr\u001b[0m\u001b[0;34m,\u001b[0m \u001b[0;34m**\u001b[0m\u001b[0mkwargs\u001b[0m\u001b[0;34m)\u001b[0m\u001b[0;34m\u001b[0m\u001b[0;34m\u001b[0m\u001b[0m\n\u001b[0m\u001b[1;32m    332\u001b[0m             \u001b[0;31m# Unknown object, fall back to the emptyPrinter.\u001b[0m\u001b[0;34m\u001b[0m\u001b[0;34m\u001b[0m\u001b[0m\n\u001b[1;32m    333\u001b[0m             \u001b[0;32mreturn\u001b[0m \u001b[0mself\u001b[0m\u001b[0;34m.\u001b[0m\u001b[0memptyPrinter\u001b[0m\u001b[0;34m(\u001b[0m\u001b[0mexpr\u001b[0m\u001b[0;34m)\u001b[0m\u001b[0;34m\u001b[0m\u001b[0;34m\u001b[0m\u001b[0m\n",
      "\u001b[0;32m/usr/local/lib/python3.9/site-packages/sympy/printing/c.py\u001b[0m in \u001b[0;36m_print_Indexed\u001b[0;34m(self, expr)\u001b[0m\n\u001b[1;32m    319\u001b[0m \u001b[0;34m\u001b[0m\u001b[0m\n\u001b[1;32m    320\u001b[0m         \u001b[0;32mif\u001b[0m \u001b[0mstrides\u001b[0m \u001b[0;32mis\u001b[0m \u001b[0;32mNone\u001b[0m \u001b[0;32mor\u001b[0m \u001b[0misinstance\u001b[0m\u001b[0;34m(\u001b[0m\u001b[0mstrides\u001b[0m\u001b[0;34m,\u001b[0m \u001b[0mstr\u001b[0m\u001b[0;34m)\u001b[0m\u001b[0;34m:\u001b[0m\u001b[0;34m\u001b[0m\u001b[0;34m\u001b[0m\u001b[0m\n\u001b[0;32m--> 321\u001b[0;31m             \u001b[0mdims\u001b[0m \u001b[0;34m=\u001b[0m \u001b[0mexpr\u001b[0m\u001b[0;34m.\u001b[0m\u001b[0mshape\u001b[0m\u001b[0;34m\u001b[0m\u001b[0;34m\u001b[0m\u001b[0m\n\u001b[0m\u001b[1;32m    322\u001b[0m             \u001b[0mshift\u001b[0m \u001b[0;34m=\u001b[0m \u001b[0mS\u001b[0m\u001b[0;34m.\u001b[0m\u001b[0mOne\u001b[0m\u001b[0;34m\u001b[0m\u001b[0;34m\u001b[0m\u001b[0m\n\u001b[1;32m    323\u001b[0m             \u001b[0mtemp\u001b[0m \u001b[0;34m=\u001b[0m \u001b[0mtuple\u001b[0m\u001b[0;34m(\u001b[0m\u001b[0;34m)\u001b[0m\u001b[0;34m\u001b[0m\u001b[0;34m\u001b[0m\u001b[0m\n",
      "\u001b[0;32m/usr/local/lib/python3.9/site-packages/sympy/tensor/indexed.py\u001b[0m in \u001b[0;36mshape\u001b[0;34m(self)\u001b[0m\n\u001b[1;32m    294\u001b[0m             \u001b[0mlower\u001b[0m \u001b[0;34m=\u001b[0m \u001b[0mgetattr\u001b[0m\u001b[0;34m(\u001b[0m\u001b[0mi\u001b[0m\u001b[0;34m,\u001b[0m \u001b[0;34m'lower'\u001b[0m\u001b[0;34m,\u001b[0m \u001b[0;32mNone\u001b[0m\u001b[0;34m)\u001b[0m\u001b[0;34m\u001b[0m\u001b[0;34m\u001b[0m\u001b[0m\n\u001b[1;32m    295\u001b[0m             \u001b[0;32mif\u001b[0m \u001b[0;32mNone\u001b[0m \u001b[0;32min\u001b[0m \u001b[0;34m(\u001b[0m\u001b[0mupper\u001b[0m\u001b[0;34m,\u001b[0m \u001b[0mlower\u001b[0m\u001b[0;34m)\u001b[0m\u001b[0;34m:\u001b[0m\u001b[0;34m\u001b[0m\u001b[0;34m\u001b[0m\u001b[0m\n\u001b[0;32m--> 296\u001b[0;31m                 raise IndexException(filldedent(\"\"\"\n\u001b[0m\u001b[1;32m    297\u001b[0m                     Range is not defined for all indices in: %s\"\"\" % self))\n\u001b[1;32m    298\u001b[0m             \u001b[0;32mtry\u001b[0m\u001b[0;34m:\u001b[0m\u001b[0;34m\u001b[0m\u001b[0;34m\u001b[0m\u001b[0m\n",
      "\u001b[0;31mIndexException\u001b[0m: \nRange is not defined for all indices in: alpha[i + 1, j]"
     ]
    }
   ],
   "source": [
    "print(ccode(simplify(action_3.expr)))"
   ]
  },
  {
   "cell_type": "code",
   "execution_count": 19,
   "metadata": {},
   "outputs": [
    {
     "name": "stdout",
     "output_type": "stream",
     "text": [
      "   0    0    1    0    0 \n",
      "   0    2   -8    2    0 \n",
      "   1   -8   20   -8    1 \n",
      "   0    2   -8    2    0 \n",
      "   0    0    1    0    0 \n"
     ]
    }
   ],
   "source": [
    "for offset_i in range(5):\n",
    "    s = \"\"\n",
    "    for offset_j in range(5):        \n",
    "        s += \"{:4d} \".format(table[offset_i,offset_j])\n",
    "    print (s)\n",
    "    "
   ]
  },
  {
   "cell_type": "code",
   "execution_count": 48,
   "metadata": {},
   "outputs": [
    {
     "data": {
      "text/latex": [
       "$\\displaystyle {\\Phi}_{i,j}^{2}$"
      ],
      "text/plain": [
       "Phi[i, j]**2"
      ]
     },
     "metadata": {},
     "output_type": "display_data"
    },
    {
     "data": {
      "text/latex": [
       "$\\displaystyle {a}_{2 i + 1,2 j + 1} + {a}_{2 i + 1,2 j} + {a}_{2 i,2 j + 1} + {a}_{2 i,2 j} + {b^{(x)}}_{2 i,2 j + 1} + {b^{(x)}}_{2 i,2 j} + {b^{(y)}}_{2 i + 1,2 j} + {b^{(y)}}_{2 i,2 j}$"
      ],
      "text/plain": [
       "a[2*i + 1, 2*j + 1] + a[2*i + 1, 2*j] + a[2*i, 2*j + 1] + a[2*i, 2*j] + b^(x)[2*i, 2*j + 1] + b^(x)[2*i, 2*j] + b^(y)[2*i + 1, 2*j] + b^(y)[2*i, 2*j]"
      ]
     },
     "metadata": {},
     "output_type": "display_data"
    },
    {
     "name": "stdout",
     "output_type": "stream",
     "text": [
      "----\n"
     ]
    },
    {
     "data": {
      "text/latex": [
       "$\\displaystyle {\\Phi}_{i + 1,j} {\\Phi}_{i,j}$"
      ],
      "text/plain": [
       "Phi[i + 1, j]*Phi[i, j]"
      ]
     },
     "metadata": {},
     "output_type": "display_data"
    },
    {
     "data": {
      "text/latex": [
       "$\\displaystyle {b^{(x)}}_{2 i + 1,2 j + 1} + {b^{(x)}}_{2 i + 1,2 j}$"
      ],
      "text/plain": [
       "b^(x)[2*i + 1, 2*j + 1] + b^(x)[2*i + 1, 2*j]"
      ]
     },
     "metadata": {},
     "output_type": "display_data"
    },
    {
     "name": "stdout",
     "output_type": "stream",
     "text": [
      "----\n"
     ]
    },
    {
     "data": {
      "text/latex": [
       "$\\displaystyle {\\Phi}_{i,j + 1} {\\Phi}_{i,j}$"
      ],
      "text/plain": [
       "Phi[i, j + 1]*Phi[i, j]"
      ]
     },
     "metadata": {},
     "output_type": "display_data"
    },
    {
     "data": {
      "text/latex": [
       "$\\displaystyle {b^{(y)}}_{2 i + 1,2 j + 1} + {b^{(y)}}_{2 i,2 j + 1}$"
      ],
      "text/plain": [
       "b^(y)[2*i + 1, 2*j + 1] + b^(y)[2*i, 2*j + 1]"
      ]
     },
     "metadata": {},
     "output_type": "display_data"
    },
    {
     "name": "stdout",
     "output_type": "stream",
     "text": [
      "----\n"
     ]
    },
    {
     "data": {
      "text/latex": [
       "$\\displaystyle {\\Phi}_{i,j}$"
      ],
      "text/plain": [
       "Phi[i, j]"
      ]
     },
     "metadata": {},
     "output_type": "display_data"
    },
    {
     "data": {
      "text/latex": [
       "$\\displaystyle 2 {a}_{2 i + 1,2 j + 1} {\\psi}_{2 i + 1,2 j + 1} + 2 {a}_{2 i + 1,2 j} {\\psi}_{2 i + 1,2 j} + 2 {a}_{2 i,2 j + 1} {\\psi}_{2 i,2 j + 1} + 2 {a}_{2 i,2 j} {\\psi}_{2 i,2 j} + {b^{(x)}}_{2 i + 1,2 j + 1} {\\psi}_{2 i + 2,2 j + 1} + {b^{(x)}}_{2 i + 1,2 j} {\\psi}_{2 i + 2,2 j} + {b^{(x)}}_{2 i - 1,2 j + 1} {\\psi}_{2 i - 1,2 j + 1} + {b^{(x)}}_{2 i - 1,2 j} {\\psi}_{2 i - 1,2 j} + {b^{(x)}}_{2 i,2 j + 1} {\\psi}_{2 i + 1,2 j + 1} + {b^{(x)}}_{2 i,2 j + 1} {\\psi}_{2 i,2 j + 1} + {b^{(x)}}_{2 i,2 j} {\\psi}_{2 i + 1,2 j} + {b^{(x)}}_{2 i,2 j} {\\psi}_{2 i,2 j} + {b^{(y)}}_{2 i + 1,2 j + 1} {\\psi}_{2 i + 1,2 j + 2} + {b^{(y)}}_{2 i + 1,2 j - 1} {\\psi}_{2 i + 1,2 j - 1} + {b^{(y)}}_{2 i + 1,2 j} {\\psi}_{2 i + 1,2 j + 1} + {b^{(y)}}_{2 i + 1,2 j} {\\psi}_{2 i + 1,2 j} + {b^{(y)}}_{2 i,2 j + 1} {\\psi}_{2 i,2 j + 2} + {b^{(y)}}_{2 i,2 j - 1} {\\psi}_{2 i,2 j - 1} + {b^{(y)}}_{2 i,2 j} {\\psi}_{2 i,2 j + 1} + {b^{(y)}}_{2 i,2 j} {\\psi}_{2 i,2 j} + {c}_{2 i + 1,2 j + 1} + {c}_{2 i + 1,2 j} + {c}_{2 i,2 j + 1} + {c}_{2 i,2 j}$"
      ],
      "text/plain": [
       "2*a[2*i + 1, 2*j + 1]*psi[2*i + 1, 2*j + 1] + 2*a[2*i + 1, 2*j]*psi[2*i + 1, 2*j] + 2*a[2*i, 2*j + 1]*psi[2*i, 2*j + 1] + 2*a[2*i, 2*j]*psi[2*i, 2*j] + b^(x)[2*i + 1, 2*j + 1]*psi[2*i + 2, 2*j + 1] + b^(x)[2*i + 1, 2*j]*psi[2*i + 2, 2*j] + b^(x)[2*i - 1, 2*j + 1]*psi[2*i - 1, 2*j + 1] + b^(x)[2*i - 1, 2*j]*psi[2*i - 1, 2*j] + b^(x)[2*i, 2*j + 1]*psi[2*i + 1, 2*j + 1] + b^(x)[2*i, 2*j + 1]*psi[2*i, 2*j + 1] + b^(x)[2*i, 2*j]*psi[2*i + 1, 2*j] + b^(x)[2*i, 2*j]*psi[2*i, 2*j] + b^(y)[2*i + 1, 2*j + 1]*psi[2*i + 1, 2*j + 2] + b^(y)[2*i + 1, 2*j - 1]*psi[2*i + 1, 2*j - 1] + b^(y)[2*i + 1, 2*j]*psi[2*i + 1, 2*j + 1] + b^(y)[2*i + 1, 2*j]*psi[2*i + 1, 2*j] + b^(y)[2*i, 2*j + 1]*psi[2*i, 2*j + 2] + b^(y)[2*i, 2*j - 1]*psi[2*i, 2*j - 1] + b^(y)[2*i, 2*j]*psi[2*i, 2*j + 1] + b^(y)[2*i, 2*j]*psi[2*i, 2*j] + c[2*i + 1, 2*j + 1] + c[2*i + 1, 2*j] + c[2*i, 2*j + 1] + c[2*i, 2*j]"
      ]
     },
     "metadata": {},
     "output_type": "display_data"
    },
    {
     "name": "stdout",
     "output_type": "stream",
     "text": [
      "----\n"
     ]
    },
    {
     "data": {
      "text/latex": [
       "$\\displaystyle {a}_{2 i + 1,2 j + 1} {\\psi}_{2 i + 1,2 j + 1}^{2} + {a}_{2 i + 1,2 j} {\\psi}_{2 i + 1,2 j}^{2} + {a}_{2 i,2 j + 1} {\\psi}_{2 i,2 j + 1}^{2} + {a}_{2 i,2 j} {\\psi}_{2 i,2 j}^{2} + {b^{(x)}}_{2 i + 1,2 j + 1} {\\psi}_{2 i + 1,2 j + 1} {\\psi}_{2 i + 2,2 j + 1} + {b^{(x)}}_{2 i + 1,2 j} {\\psi}_{2 i + 1,2 j} {\\psi}_{2 i + 2,2 j} + {b^{(x)}}_{2 i,2 j + 1} {\\psi}_{2 i + 1,2 j + 1} {\\psi}_{2 i,2 j + 1} + {b^{(x)}}_{2 i,2 j} {\\psi}_{2 i + 1,2 j} {\\psi}_{2 i,2 j} + {b^{(y)}}_{2 i + 1,2 j + 1} {\\psi}_{2 i + 1,2 j + 1} {\\psi}_{2 i + 1,2 j + 2} + {b^{(y)}}_{2 i + 1,2 j} {\\psi}_{2 i + 1,2 j + 1} {\\psi}_{2 i + 1,2 j} + {b^{(y)}}_{2 i,2 j + 1} {\\psi}_{2 i,2 j + 1} {\\psi}_{2 i,2 j + 2} + {b^{(y)}}_{2 i,2 j} {\\psi}_{2 i,2 j + 1} {\\psi}_{2 i,2 j} + {c}_{2 i + 1,2 j + 1} {\\psi}_{2 i + 1,2 j + 1} + {c}_{2 i + 1,2 j} {\\psi}_{2 i + 1,2 j} + {c}_{2 i,2 j + 1} {\\psi}_{2 i,2 j + 1} + {c}_{2 i,2 j} {\\psi}_{2 i,2 j}$"
      ],
      "text/plain": [
       "a[2*i + 1, 2*j + 1]*psi[2*i + 1, 2*j + 1]**2 + a[2*i + 1, 2*j]*psi[2*i + 1, 2*j]**2 + a[2*i, 2*j + 1]*psi[2*i, 2*j + 1]**2 + a[2*i, 2*j]*psi[2*i, 2*j]**2 + b^(x)[2*i + 1, 2*j + 1]*psi[2*i + 1, 2*j + 1]*psi[2*i + 2, 2*j + 1] + b^(x)[2*i + 1, 2*j]*psi[2*i + 1, 2*j]*psi[2*i + 2, 2*j] + b^(x)[2*i, 2*j + 1]*psi[2*i + 1, 2*j + 1]*psi[2*i, 2*j + 1] + b^(x)[2*i, 2*j]*psi[2*i + 1, 2*j]*psi[2*i, 2*j] + b^(y)[2*i + 1, 2*j + 1]*psi[2*i + 1, 2*j + 1]*psi[2*i + 1, 2*j + 2] + b^(y)[2*i + 1, 2*j]*psi[2*i + 1, 2*j + 1]*psi[2*i + 1, 2*j] + b^(y)[2*i, 2*j + 1]*psi[2*i, 2*j + 1]*psi[2*i, 2*j + 2] + b^(y)[2*i, 2*j]*psi[2*i, 2*j + 1]*psi[2*i, 2*j] + c[2*i + 1, 2*j + 1]*psi[2*i + 1, 2*j + 1] + c[2*i + 1, 2*j]*psi[2*i + 1, 2*j] + c[2*i, 2*j + 1]*psi[2*i, 2*j + 1] + c[2*i, 2*j]*psi[2*i, 2*j]"
      ]
     },
     "metadata": {},
     "output_type": "display_data"
    }
   ],
   "source": [
    "phi = IndexedBase(\"phi\")\n",
    "Phi = IndexedBase(\"Phi\")\n",
    "psi = IndexedBase(\"psi\")\n",
    "alpha = IndexedBase(\"a\")\n",
    "beta_x = IndexedBase(\"b^(x)\")\n",
    "beta_y = IndexedBase(\"b^(y)\")\n",
    "gamma = IndexedBase(\"c\")\n",
    "i = symbols(\"i\", integer=True)\n",
    "j = symbols(\"j\", integer=True)\n",
    "\n",
    "fine_action = (\n",
    "    alpha[i, j] * phi[i, j] ** 2\n",
    "    + beta_x[i, j] * phi[i, j] * phi[i + 1, j]\n",
    "    + beta_y[i, j] * phi[i, j] * phi[i, j + 1]\n",
    "    + gamma[i, j] * phi[i, j]\n",
    ")\n",
    "\n",
    "coarsener = Coarsener(phi, Phi, psi, [i, j])\n",
    "\n",
    "coarse_action = coarsener.apply(fine_action)\n",
    "for term in [\n",
    "    Phi[i, j] ** 2,\n",
    "    Phi[i, j] * Phi[i + 1, j],\n",
    "    Phi[i, j] * Phi[i, j + 1],\n",
    "    Phi[i, j],\n",
    "]:\n",
    "    coeff = coarse_action.coeff(term)\n",
    "    display(term)\n",
    "    display(coeff)\n",
    "    print(\"----\")\n",
    "    coarse_action = simplify(coarse_action - coeff * term)\n",
    "display(coarse_action)\n"
   ]
  },
  {
   "cell_type": "code",
   "execution_count": null,
   "metadata": {},
   "outputs": [],
   "source": []
  }
 ],
 "metadata": {
  "kernelspec": {
   "display_name": "Python 3.10.6 64-bit",
   "language": "python",
   "name": "python3"
  },
  "language_info": {
   "codemirror_mode": {
    "name": "ipython",
    "version": 3
   },
   "file_extension": ".py",
   "mimetype": "text/x-python",
   "name": "python",
   "nbconvert_exporter": "python",
   "pygments_lexer": "ipython3",
   "version": "3.10.6"
  },
  "orig_nbformat": 4,
  "vscode": {
   "interpreter": {
    "hash": "916dbcbb3f70747c44a77c7bcd40155683ae19c65e1c03b4aa3499c5328201f1"
   }
  }
 },
 "nbformat": 4,
 "nbformat_minor": 2
}
