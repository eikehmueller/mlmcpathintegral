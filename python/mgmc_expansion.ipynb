{
 "cells": [
  {
   "cell_type": "code",
   "execution_count": 27,
   "metadata": {},
   "outputs": [
    {
     "name": "stdout",
     "output_type": "stream",
     "text": [
      "The autoreload extension is already loaded. To reload it, use:\n",
      "  %reload_ext autoreload\n"
     ]
    }
   ],
   "source": [
    "from sympy import *\n",
    "import numpy as np\n",
    "from IPython.display import display\n",
    "from itertools import product\n",
    "from action import Coarsener, Action\n",
    "\n",
    "%load_ext autoreload\n",
    "%autoreload 2"
   ]
  },
  {
   "cell_type": "code",
   "execution_count": 41,
   "metadata": {},
   "outputs": [
    {
     "data": {
      "text/latex": [
       "$\\displaystyle {\\alpha}_{i,j} {\\phi}_{i,j}^{2} + {\\beta}_{i + 0.5,j} {\\phi}_{i + 1,j} {\\phi}_{i,j} + {\\beta}_{i - 0.5,j} {\\phi}_{i - 1,j} {\\phi}_{i,j} + {\\beta}_{i,j + 0.5} {\\phi}_{i,j + 1} {\\phi}_{i,j} + {\\beta}_{i,j - 0.5} {\\phi}_{i,j - 1} {\\phi}_{i,j}$"
      ],
      "text/plain": [
       "alpha[i, j]*phi[i, j]**2 + beta[i + 0.5, j]*phi[i + 1, j]*phi[i, j] + beta[i - 0.5, j]*phi[i - 1, j]*phi[i, j] + beta[i, j + 0.5]*phi[i, j + 1]*phi[i, j] + beta[i, j - 0.5]*phi[i, j - 1]*phi[i, j]"
      ]
     },
     "execution_count": 41,
     "metadata": {},
     "output_type": "execute_result"
    }
   ],
   "source": [
    "phi = IndexedBase(\"phi\")\n",
    "i = symbols(\"i\", integer=True)\n",
    "j = symbols(\"j\", integer=True)\n",
    "alpha = IndexedBase(\"alpha\")\n",
    "beta = IndexedBase(\"beta\")\n",
    "omega = symbols(\"omega\")\n",
    "gamma = IndexedBase(\"c\")\n",
    "\n",
    "fine_action_expr = phi[i, j] * (\n",
    "    alpha[i, j] * phi[i, j]\n",
    "    + beta[i + 1 / 2, j] * phi[i + 1, j]\n",
    "    + beta[i - 1 / 2, j] * phi[i - 1, j]\n",
    "    + beta[i, j + 1 / 2] * phi[i, j + 1]\n",
    "    + beta[i, j - 1 / 2] * phi[i, j - 1]\n",
    ")\n",
    "# fine_action_expr = phi[i, j] * (\n",
    "#    4 * phi[i, j]\n",
    "#    - phi[i + 1, j]\n",
    "#    - phi[i, j + 1]\n",
    "#    - phi[i - 1, j]\n",
    "#    - phi[i, j - 1]\n",
    "# )\n",
    "\n",
    "action = Action(fine_action_expr, phi, (i, j))\n",
    "action.expr\n"
   ]
  },
  {
   "cell_type": "code",
   "execution_count": 42,
   "metadata": {},
   "outputs": [
    {
     "data": {
      "text/latex": [
       "$\\displaystyle \\left({\\alpha}_{i + 1,j} {\\beta}_{i + 0.5,j} {\\phi}_{i + 1,j} + {\\alpha}_{i - 1,j} {\\beta}_{i - 0.5,j} {\\phi}_{i - 1,j} + {\\alpha}_{i,j + 1} {\\beta}_{i,j + 0.5} {\\phi}_{i,j + 1} + {\\alpha}_{i,j - 1} {\\beta}_{i,j - 0.5} {\\phi}_{i,j - 1} + {\\alpha}_{i,j}^{2} {\\phi}_{i,j} + {\\alpha}_{i,j} {\\beta}_{i + 0.5,j} {\\phi}_{i + 1,j} + {\\alpha}_{i,j} {\\beta}_{i - 0.5,j} {\\phi}_{i - 1,j} + {\\alpha}_{i,j} {\\beta}_{i,j + 0.5} {\\phi}_{i,j + 1} + {\\alpha}_{i,j} {\\beta}_{i,j - 0.5} {\\phi}_{i,j - 1} + {\\beta}_{i + 0.5,j + 1} {\\beta}_{i,j + 0.5} {\\phi}_{i + 1,j + 1} + {\\beta}_{i + 0.5,j - 1} {\\beta}_{i,j - 0.5} {\\phi}_{i + 1,j - 1} + {\\beta}_{i + 0.5,j}^{2} {\\phi}_{i,j} + {\\beta}_{i + 0.5,j} {\\beta}_{i + 1,j + 0.5} {\\phi}_{i + 1,j + 1} + {\\beta}_{i + 0.5,j} {\\beta}_{i + 1,j - 0.5} {\\phi}_{i + 1,j - 1} + {\\beta}_{i + 0.5,j} {\\beta}_{i + 1.5,j} {\\phi}_{i + 2,j} + {\\beta}_{i - 0.5,j + 1} {\\beta}_{i,j + 0.5} {\\phi}_{i - 1,j + 1} + {\\beta}_{i - 0.5,j - 1} {\\beta}_{i,j - 0.5} {\\phi}_{i - 1,j - 1} + {\\beta}_{i - 0.5,j}^{2} {\\phi}_{i,j} + {\\beta}_{i - 0.5,j} {\\beta}_{i - 1,j + 0.5} {\\phi}_{i - 1,j + 1} + {\\beta}_{i - 0.5,j} {\\beta}_{i - 1,j - 0.5} {\\phi}_{i - 1,j - 1} + {\\beta}_{i - 0.5,j} {\\beta}_{i - 1.5,j} {\\phi}_{i - 2,j} + {\\beta}_{i,j + 0.5}^{2} {\\phi}_{i,j} + {\\beta}_{i,j + 0.5} {\\beta}_{i,j + 1.5} {\\phi}_{i,j + 2} + {\\beta}_{i,j - 0.5}^{2} {\\phi}_{i,j} + {\\beta}_{i,j - 0.5} {\\beta}_{i,j - 1.5} {\\phi}_{i,j - 2}\\right) {\\phi}_{i,j}$"
      ],
      "text/plain": [
       "(alpha[i + 1, j]*beta[i + 0.5, j]*phi[i + 1, j] + alpha[i - 1, j]*beta[i - 0.5, j]*phi[i - 1, j] + alpha[i, j + 1]*beta[i, j + 0.5]*phi[i, j + 1] + alpha[i, j - 1]*beta[i, j - 0.5]*phi[i, j - 1] + alpha[i, j]**2*phi[i, j] + alpha[i, j]*beta[i + 0.5, j]*phi[i + 1, j] + alpha[i, j]*beta[i - 0.5, j]*phi[i - 1, j] + alpha[i, j]*beta[i, j + 0.5]*phi[i, j + 1] + alpha[i, j]*beta[i, j - 0.5]*phi[i, j - 1] + beta[i + 0.5, j + 1]*beta[i, j + 0.5]*phi[i + 1, j + 1] + beta[i + 0.5, j - 1]*beta[i, j - 0.5]*phi[i + 1, j - 1] + beta[i + 0.5, j]**2*phi[i, j] + beta[i + 0.5, j]*beta[i + 1, j + 0.5]*phi[i + 1, j + 1] + beta[i + 0.5, j]*beta[i + 1, j - 0.5]*phi[i + 1, j - 1] + beta[i + 0.5, j]*beta[i + 1.5, j]*phi[i + 2, j] + beta[i - 0.5, j + 1]*beta[i, j + 0.5]*phi[i - 1, j + 1] + beta[i - 0.5, j - 1]*beta[i, j - 0.5]*phi[i - 1, j - 1] + beta[i - 0.5, j]**2*phi[i, j] + beta[i - 0.5, j]*beta[i - 1, j + 0.5]*phi[i - 1, j + 1] + beta[i - 0.5, j]*beta[i - 1, j - 0.5]*phi[i - 1, j - 1] + beta[i - 0.5, j]*beta[i - 1.5, j]*phi[i - 2, j] + beta[i, j + 0.5]**2*phi[i, j] + beta[i, j + 0.5]*beta[i, j + 1.5]*phi[i, j + 2] + beta[i, j - 0.5]**2*phi[i, j] + beta[i, j - 0.5]*beta[i, j - 1.5]*phi[i, j - 2])*phi[i, j]"
      ]
     },
     "metadata": {},
     "output_type": "display_data"
    },
    {
     "data": {
      "text/latex": [
       "$\\displaystyle {\\phi}_{i - 2,j - 2} {\\phi}_{i,j}$"
      ],
      "text/plain": [
       "phi[i - 2, j - 2]*phi[i, j]"
      ]
     },
     "metadata": {},
     "output_type": "display_data"
    },
    {
     "data": {
      "text/latex": [
       "$\\displaystyle 0$"
      ],
      "text/plain": [
       "0"
      ]
     },
     "metadata": {},
     "output_type": "display_data"
    },
    {
     "name": "stdout",
     "output_type": "stream",
     "text": [
      "----\n"
     ]
    },
    {
     "data": {
      "text/latex": [
       "$\\displaystyle {\\phi}_{i - 2,j - 1} {\\phi}_{i,j}$"
      ],
      "text/plain": [
       "phi[i - 2, j - 1]*phi[i, j]"
      ]
     },
     "metadata": {},
     "output_type": "display_data"
    },
    {
     "data": {
      "text/latex": [
       "$\\displaystyle 0$"
      ],
      "text/plain": [
       "0"
      ]
     },
     "metadata": {},
     "output_type": "display_data"
    },
    {
     "name": "stdout",
     "output_type": "stream",
     "text": [
      "----\n"
     ]
    },
    {
     "data": {
      "text/latex": [
       "$\\displaystyle {\\phi}_{i - 2,j} {\\phi}_{i,j}$"
      ],
      "text/plain": [
       "phi[i - 2, j]*phi[i, j]"
      ]
     },
     "metadata": {},
     "output_type": "display_data"
    },
    {
     "data": {
      "text/latex": [
       "$\\displaystyle {\\beta}_{i - 0.5,j} {\\beta}_{i - 1.5,j}$"
      ],
      "text/plain": [
       "beta[i - 0.5, j]*beta[i - 1.5, j]"
      ]
     },
     "metadata": {},
     "output_type": "display_data"
    },
    {
     "name": "stdout",
     "output_type": "stream",
     "text": [
      "----\n"
     ]
    },
    {
     "data": {
      "text/latex": [
       "$\\displaystyle {\\phi}_{i - 2,j + 1} {\\phi}_{i,j}$"
      ],
      "text/plain": [
       "phi[i - 2, j + 1]*phi[i, j]"
      ]
     },
     "metadata": {},
     "output_type": "display_data"
    },
    {
     "data": {
      "text/latex": [
       "$\\displaystyle 0$"
      ],
      "text/plain": [
       "0"
      ]
     },
     "metadata": {},
     "output_type": "display_data"
    },
    {
     "name": "stdout",
     "output_type": "stream",
     "text": [
      "----\n"
     ]
    },
    {
     "data": {
      "text/latex": [
       "$\\displaystyle {\\phi}_{i - 2,j + 2} {\\phi}_{i,j}$"
      ],
      "text/plain": [
       "phi[i - 2, j + 2]*phi[i, j]"
      ]
     },
     "metadata": {},
     "output_type": "display_data"
    },
    {
     "data": {
      "text/latex": [
       "$\\displaystyle 0$"
      ],
      "text/plain": [
       "0"
      ]
     },
     "metadata": {},
     "output_type": "display_data"
    },
    {
     "name": "stdout",
     "output_type": "stream",
     "text": [
      "----\n"
     ]
    },
    {
     "data": {
      "text/latex": [
       "$\\displaystyle {\\phi}_{i - 1,j - 2} {\\phi}_{i,j}$"
      ],
      "text/plain": [
       "phi[i - 1, j - 2]*phi[i, j]"
      ]
     },
     "metadata": {},
     "output_type": "display_data"
    },
    {
     "data": {
      "text/latex": [
       "$\\displaystyle 0$"
      ],
      "text/plain": [
       "0"
      ]
     },
     "metadata": {},
     "output_type": "display_data"
    },
    {
     "name": "stdout",
     "output_type": "stream",
     "text": [
      "----\n"
     ]
    },
    {
     "data": {
      "text/latex": [
       "$\\displaystyle {\\phi}_{i - 1,j - 1} {\\phi}_{i,j}$"
      ],
      "text/plain": [
       "phi[i - 1, j - 1]*phi[i, j]"
      ]
     },
     "metadata": {},
     "output_type": "display_data"
    },
    {
     "data": {
      "text/latex": [
       "$\\displaystyle {\\beta}_{i - 0.5,j - 1} {\\beta}_{i,j - 0.5} + {\\beta}_{i - 0.5,j} {\\beta}_{i - 1,j - 0.5}$"
      ],
      "text/plain": [
       "beta[i - 0.5, j - 1]*beta[i, j - 0.5] + beta[i - 0.5, j]*beta[i - 1, j - 0.5]"
      ]
     },
     "metadata": {},
     "output_type": "display_data"
    },
    {
     "name": "stdout",
     "output_type": "stream",
     "text": [
      "----\n"
     ]
    },
    {
     "data": {
      "text/latex": [
       "$\\displaystyle {\\phi}_{i - 1,j} {\\phi}_{i,j}$"
      ],
      "text/plain": [
       "phi[i - 1, j]*phi[i, j]"
      ]
     },
     "metadata": {},
     "output_type": "display_data"
    },
    {
     "data": {
      "text/latex": [
       "$\\displaystyle {\\alpha}_{i - 1,j} {\\beta}_{i - 0.5,j} + {\\alpha}_{i,j} {\\beta}_{i - 0.5,j}$"
      ],
      "text/plain": [
       "alpha[i - 1, j]*beta[i - 0.5, j] + alpha[i, j]*beta[i - 0.5, j]"
      ]
     },
     "metadata": {},
     "output_type": "display_data"
    },
    {
     "name": "stdout",
     "output_type": "stream",
     "text": [
      "----\n"
     ]
    },
    {
     "data": {
      "text/latex": [
       "$\\displaystyle {\\phi}_{i - 1,j + 1} {\\phi}_{i,j}$"
      ],
      "text/plain": [
       "phi[i - 1, j + 1]*phi[i, j]"
      ]
     },
     "metadata": {},
     "output_type": "display_data"
    },
    {
     "data": {
      "text/latex": [
       "$\\displaystyle {\\beta}_{i - 0.5,j + 1} {\\beta}_{i,j + 0.5} + {\\beta}_{i - 0.5,j} {\\beta}_{i - 1,j + 0.5}$"
      ],
      "text/plain": [
       "beta[i - 0.5, j + 1]*beta[i, j + 0.5] + beta[i - 0.5, j]*beta[i - 1, j + 0.5]"
      ]
     },
     "metadata": {},
     "output_type": "display_data"
    },
    {
     "name": "stdout",
     "output_type": "stream",
     "text": [
      "----\n"
     ]
    },
    {
     "data": {
      "text/latex": [
       "$\\displaystyle {\\phi}_{i - 1,j + 2} {\\phi}_{i,j}$"
      ],
      "text/plain": [
       "phi[i - 1, j + 2]*phi[i, j]"
      ]
     },
     "metadata": {},
     "output_type": "display_data"
    },
    {
     "data": {
      "text/latex": [
       "$\\displaystyle 0$"
      ],
      "text/plain": [
       "0"
      ]
     },
     "metadata": {},
     "output_type": "display_data"
    },
    {
     "name": "stdout",
     "output_type": "stream",
     "text": [
      "----\n"
     ]
    },
    {
     "data": {
      "text/latex": [
       "$\\displaystyle {\\phi}_{i,j - 2} {\\phi}_{i,j}$"
      ],
      "text/plain": [
       "phi[i, j - 2]*phi[i, j]"
      ]
     },
     "metadata": {},
     "output_type": "display_data"
    },
    {
     "data": {
      "text/latex": [
       "$\\displaystyle {\\beta}_{i,j - 0.5} {\\beta}_{i,j - 1.5}$"
      ],
      "text/plain": [
       "beta[i, j - 0.5]*beta[i, j - 1.5]"
      ]
     },
     "metadata": {},
     "output_type": "display_data"
    },
    {
     "name": "stdout",
     "output_type": "stream",
     "text": [
      "----\n"
     ]
    },
    {
     "data": {
      "text/latex": [
       "$\\displaystyle {\\phi}_{i,j - 1} {\\phi}_{i,j}$"
      ],
      "text/plain": [
       "phi[i, j - 1]*phi[i, j]"
      ]
     },
     "metadata": {},
     "output_type": "display_data"
    },
    {
     "data": {
      "text/latex": [
       "$\\displaystyle {\\alpha}_{i,j - 1} {\\beta}_{i,j - 0.5} + {\\alpha}_{i,j} {\\beta}_{i,j - 0.5}$"
      ],
      "text/plain": [
       "alpha[i, j - 1]*beta[i, j - 0.5] + alpha[i, j]*beta[i, j - 0.5]"
      ]
     },
     "metadata": {},
     "output_type": "display_data"
    },
    {
     "name": "stdout",
     "output_type": "stream",
     "text": [
      "----\n"
     ]
    },
    {
     "data": {
      "text/latex": [
       "$\\displaystyle {\\phi}_{i,j}^{2}$"
      ],
      "text/plain": [
       "phi[i, j]**2"
      ]
     },
     "metadata": {},
     "output_type": "display_data"
    },
    {
     "data": {
      "text/latex": [
       "$\\displaystyle {\\alpha}_{i,j}^{2} + {\\beta}_{i + 0.5,j}^{2} + {\\beta}_{i - 0.5,j}^{2} + {\\beta}_{i,j + 0.5}^{2} + {\\beta}_{i,j - 0.5}^{2}$"
      ],
      "text/plain": [
       "alpha[i, j]**2 + beta[i + 0.5, j]**2 + beta[i - 0.5, j]**2 + beta[i, j + 0.5]**2 + beta[i, j - 0.5]**2"
      ]
     },
     "metadata": {},
     "output_type": "display_data"
    },
    {
     "name": "stdout",
     "output_type": "stream",
     "text": [
      "----\n"
     ]
    },
    {
     "data": {
      "text/latex": [
       "$\\displaystyle {\\phi}_{i,j + 1} {\\phi}_{i,j}$"
      ],
      "text/plain": [
       "phi[i, j + 1]*phi[i, j]"
      ]
     },
     "metadata": {},
     "output_type": "display_data"
    },
    {
     "data": {
      "text/latex": [
       "$\\displaystyle {\\alpha}_{i,j + 1} {\\beta}_{i,j + 0.5} + {\\alpha}_{i,j} {\\beta}_{i,j + 0.5}$"
      ],
      "text/plain": [
       "alpha[i, j + 1]*beta[i, j + 0.5] + alpha[i, j]*beta[i, j + 0.5]"
      ]
     },
     "metadata": {},
     "output_type": "display_data"
    },
    {
     "name": "stdout",
     "output_type": "stream",
     "text": [
      "----\n"
     ]
    },
    {
     "data": {
      "text/latex": [
       "$\\displaystyle {\\phi}_{i,j + 2} {\\phi}_{i,j}$"
      ],
      "text/plain": [
       "phi[i, j + 2]*phi[i, j]"
      ]
     },
     "metadata": {},
     "output_type": "display_data"
    },
    {
     "data": {
      "text/latex": [
       "$\\displaystyle {\\beta}_{i,j + 0.5} {\\beta}_{i,j + 1.5}$"
      ],
      "text/plain": [
       "beta[i, j + 0.5]*beta[i, j + 1.5]"
      ]
     },
     "metadata": {},
     "output_type": "display_data"
    },
    {
     "name": "stdout",
     "output_type": "stream",
     "text": [
      "----\n"
     ]
    },
    {
     "data": {
      "text/latex": [
       "$\\displaystyle {\\phi}_{i + 1,j - 2} {\\phi}_{i,j}$"
      ],
      "text/plain": [
       "phi[i + 1, j - 2]*phi[i, j]"
      ]
     },
     "metadata": {},
     "output_type": "display_data"
    },
    {
     "data": {
      "text/latex": [
       "$\\displaystyle 0$"
      ],
      "text/plain": [
       "0"
      ]
     },
     "metadata": {},
     "output_type": "display_data"
    },
    {
     "name": "stdout",
     "output_type": "stream",
     "text": [
      "----\n"
     ]
    },
    {
     "data": {
      "text/latex": [
       "$\\displaystyle {\\phi}_{i + 1,j - 1} {\\phi}_{i,j}$"
      ],
      "text/plain": [
       "phi[i + 1, j - 1]*phi[i, j]"
      ]
     },
     "metadata": {},
     "output_type": "display_data"
    },
    {
     "data": {
      "text/latex": [
       "$\\displaystyle {\\beta}_{i + 0.5,j - 1} {\\beta}_{i,j - 0.5} + {\\beta}_{i + 0.5,j} {\\beta}_{i + 1,j - 0.5}$"
      ],
      "text/plain": [
       "beta[i + 0.5, j - 1]*beta[i, j - 0.5] + beta[i + 0.5, j]*beta[i + 1, j - 0.5]"
      ]
     },
     "metadata": {},
     "output_type": "display_data"
    },
    {
     "name": "stdout",
     "output_type": "stream",
     "text": [
      "----\n"
     ]
    },
    {
     "data": {
      "text/latex": [
       "$\\displaystyle {\\phi}_{i + 1,j} {\\phi}_{i,j}$"
      ],
      "text/plain": [
       "phi[i + 1, j]*phi[i, j]"
      ]
     },
     "metadata": {},
     "output_type": "display_data"
    },
    {
     "data": {
      "text/latex": [
       "$\\displaystyle {\\alpha}_{i + 1,j} {\\beta}_{i + 0.5,j} + {\\alpha}_{i,j} {\\beta}_{i + 0.5,j}$"
      ],
      "text/plain": [
       "alpha[i + 1, j]*beta[i + 0.5, j] + alpha[i, j]*beta[i + 0.5, j]"
      ]
     },
     "metadata": {},
     "output_type": "display_data"
    },
    {
     "name": "stdout",
     "output_type": "stream",
     "text": [
      "----\n"
     ]
    },
    {
     "data": {
      "text/latex": [
       "$\\displaystyle {\\phi}_{i + 1,j + 1} {\\phi}_{i,j}$"
      ],
      "text/plain": [
       "phi[i + 1, j + 1]*phi[i, j]"
      ]
     },
     "metadata": {},
     "output_type": "display_data"
    },
    {
     "data": {
      "text/latex": [
       "$\\displaystyle {\\beta}_{i + 0.5,j + 1} {\\beta}_{i,j + 0.5} + {\\beta}_{i + 0.5,j} {\\beta}_{i + 1,j + 0.5}$"
      ],
      "text/plain": [
       "beta[i + 0.5, j + 1]*beta[i, j + 0.5] + beta[i + 0.5, j]*beta[i + 1, j + 0.5]"
      ]
     },
     "metadata": {},
     "output_type": "display_data"
    },
    {
     "name": "stdout",
     "output_type": "stream",
     "text": [
      "----\n"
     ]
    },
    {
     "data": {
      "text/latex": [
       "$\\displaystyle {\\phi}_{i + 1,j + 2} {\\phi}_{i,j}$"
      ],
      "text/plain": [
       "phi[i + 1, j + 2]*phi[i, j]"
      ]
     },
     "metadata": {},
     "output_type": "display_data"
    },
    {
     "data": {
      "text/latex": [
       "$\\displaystyle 0$"
      ],
      "text/plain": [
       "0"
      ]
     },
     "metadata": {},
     "output_type": "display_data"
    },
    {
     "name": "stdout",
     "output_type": "stream",
     "text": [
      "----\n"
     ]
    },
    {
     "data": {
      "text/latex": [
       "$\\displaystyle {\\phi}_{i + 2,j - 2} {\\phi}_{i,j}$"
      ],
      "text/plain": [
       "phi[i + 2, j - 2]*phi[i, j]"
      ]
     },
     "metadata": {},
     "output_type": "display_data"
    },
    {
     "data": {
      "text/latex": [
       "$\\displaystyle 0$"
      ],
      "text/plain": [
       "0"
      ]
     },
     "metadata": {},
     "output_type": "display_data"
    },
    {
     "name": "stdout",
     "output_type": "stream",
     "text": [
      "----\n"
     ]
    },
    {
     "data": {
      "text/latex": [
       "$\\displaystyle {\\phi}_{i + 2,j - 1} {\\phi}_{i,j}$"
      ],
      "text/plain": [
       "phi[i + 2, j - 1]*phi[i, j]"
      ]
     },
     "metadata": {},
     "output_type": "display_data"
    },
    {
     "data": {
      "text/latex": [
       "$\\displaystyle 0$"
      ],
      "text/plain": [
       "0"
      ]
     },
     "metadata": {},
     "output_type": "display_data"
    },
    {
     "name": "stdout",
     "output_type": "stream",
     "text": [
      "----\n"
     ]
    },
    {
     "data": {
      "text/latex": [
       "$\\displaystyle {\\phi}_{i + 2,j} {\\phi}_{i,j}$"
      ],
      "text/plain": [
       "phi[i + 2, j]*phi[i, j]"
      ]
     },
     "metadata": {},
     "output_type": "display_data"
    },
    {
     "data": {
      "text/latex": [
       "$\\displaystyle {\\beta}_{i + 0.5,j} {\\beta}_{i + 1.5,j}$"
      ],
      "text/plain": [
       "beta[i + 0.5, j]*beta[i + 1.5, j]"
      ]
     },
     "metadata": {},
     "output_type": "display_data"
    },
    {
     "name": "stdout",
     "output_type": "stream",
     "text": [
      "----\n"
     ]
    },
    {
     "data": {
      "text/latex": [
       "$\\displaystyle {\\phi}_{i + 2,j + 1} {\\phi}_{i,j}$"
      ],
      "text/plain": [
       "phi[i + 2, j + 1]*phi[i, j]"
      ]
     },
     "metadata": {},
     "output_type": "display_data"
    },
    {
     "data": {
      "text/latex": [
       "$\\displaystyle 0$"
      ],
      "text/plain": [
       "0"
      ]
     },
     "metadata": {},
     "output_type": "display_data"
    },
    {
     "name": "stdout",
     "output_type": "stream",
     "text": [
      "----\n"
     ]
    },
    {
     "data": {
      "text/latex": [
       "$\\displaystyle {\\phi}_{i + 2,j + 2} {\\phi}_{i,j}$"
      ],
      "text/plain": [
       "phi[i + 2, j + 2]*phi[i, j]"
      ]
     },
     "metadata": {},
     "output_type": "display_data"
    },
    {
     "data": {
      "text/latex": [
       "$\\displaystyle 0$"
      ],
      "text/plain": [
       "0"
      ]
     },
     "metadata": {},
     "output_type": "display_data"
    },
    {
     "name": "stdout",
     "output_type": "stream",
     "text": [
      "----\n"
     ]
    }
   ],
   "source": [
    "action_3 = action**2\n",
    "display(simplify(action_3.expr))\n",
    "action_3_expr = action_3.expr\n",
    "table = np.empty((5,5),dtype=np.int32)\n",
    "for offset_i in range(-2,3):\n",
    "    for offset_j in range(-2,3):\n",
    "        term = phi[i,j]*phi[i+offset_i,j+offset_j]\n",
    "        coeff = expand(action_3_expr).coeff(term)\n",
    "        display(term)\n",
    "        display(coeff)\n",
    "        #table[offset_i+2,offset_j+2] = coeff\n",
    "        print(\"----\")\n",
    "        action_3_expr = simplify(action_3_expr - coeff * term)\n",
    "\n"
   ]
  },
  {
   "cell_type": "code",
   "execution_count": 43,
   "metadata": {},
   "outputs": [
    {
     "ename": "IndexException",
     "evalue": "\nRange is not defined for all indices in: alpha[i + 1, j]",
     "output_type": "error",
     "traceback": [
      "\u001b[0;31m---------------------------------------------------------------------------\u001b[0m",
      "\u001b[0;31mIndexException\u001b[0m                            Traceback (most recent call last)",
      "\u001b[0;32m<ipython-input-43-580974aef026>\u001b[0m in \u001b[0;36m<module>\u001b[0;34m\u001b[0m\n\u001b[0;32m----> 1\u001b[0;31m \u001b[0mprint\u001b[0m\u001b[0;34m(\u001b[0m\u001b[0mccode\u001b[0m\u001b[0;34m(\u001b[0m\u001b[0msimplify\u001b[0m\u001b[0;34m(\u001b[0m\u001b[0maction_3\u001b[0m\u001b[0;34m.\u001b[0m\u001b[0mexpr\u001b[0m\u001b[0;34m)\u001b[0m\u001b[0;34m)\u001b[0m\u001b[0;34m)\u001b[0m\u001b[0;34m\u001b[0m\u001b[0;34m\u001b[0m\u001b[0m\n\u001b[0m",
      "\u001b[0;32m/usr/local/lib/python3.9/site-packages/sympy/printing/codeprinter.py\u001b[0m in \u001b[0;36mccode\u001b[0;34m(expr, assign_to, standard, **settings)\u001b[0m\n\u001b[1;32m    727\u001b[0m     \"\"\"\n\u001b[1;32m    728\u001b[0m     \u001b[0;32mfrom\u001b[0m \u001b[0msympy\u001b[0m\u001b[0;34m.\u001b[0m\u001b[0mprinting\u001b[0m\u001b[0;34m.\u001b[0m\u001b[0mc\u001b[0m \u001b[0;32mimport\u001b[0m \u001b[0mc_code_printers\u001b[0m\u001b[0;34m\u001b[0m\u001b[0;34m\u001b[0m\u001b[0m\n\u001b[0;32m--> 729\u001b[0;31m     \u001b[0;32mreturn\u001b[0m \u001b[0mc_code_printers\u001b[0m\u001b[0;34m[\u001b[0m\u001b[0mstandard\u001b[0m\u001b[0;34m.\u001b[0m\u001b[0mlower\u001b[0m\u001b[0;34m(\u001b[0m\u001b[0;34m)\u001b[0m\u001b[0;34m]\u001b[0m\u001b[0;34m(\u001b[0m\u001b[0msettings\u001b[0m\u001b[0;34m)\u001b[0m\u001b[0;34m.\u001b[0m\u001b[0mdoprint\u001b[0m\u001b[0;34m(\u001b[0m\u001b[0mexpr\u001b[0m\u001b[0;34m,\u001b[0m \u001b[0massign_to\u001b[0m\u001b[0;34m)\u001b[0m\u001b[0;34m\u001b[0m\u001b[0;34m\u001b[0m\u001b[0m\n\u001b[0m\u001b[1;32m    730\u001b[0m \u001b[0;34m\u001b[0m\u001b[0m\n\u001b[1;32m    731\u001b[0m \u001b[0;32mdef\u001b[0m \u001b[0mprint_ccode\u001b[0m\u001b[0;34m(\u001b[0m\u001b[0mexpr\u001b[0m\u001b[0;34m,\u001b[0m \u001b[0;34m**\u001b[0m\u001b[0msettings\u001b[0m\u001b[0;34m)\u001b[0m\u001b[0;34m:\u001b[0m\u001b[0;34m\u001b[0m\u001b[0;34m\u001b[0m\u001b[0m\n",
      "\u001b[0;32m/usr/local/lib/python3.9/site-packages/sympy/printing/codeprinter.py\u001b[0m in \u001b[0;36mdoprint\u001b[0;34m(self, expr, assign_to)\u001b[0m\n\u001b[1;32m    148\u001b[0m         \u001b[0mself\u001b[0m\u001b[0;34m.\u001b[0m\u001b[0m_number_symbols\u001b[0m \u001b[0;34m=\u001b[0m \u001b[0mset\u001b[0m\u001b[0;34m(\u001b[0m\u001b[0;34m)\u001b[0m  \u001b[0;31m# type: tSet[tTuple[Expr, Float]]\u001b[0m\u001b[0;34m\u001b[0m\u001b[0;34m\u001b[0m\u001b[0m\n\u001b[1;32m    149\u001b[0m \u001b[0;34m\u001b[0m\u001b[0m\n\u001b[0;32m--> 150\u001b[0;31m         \u001b[0mlines\u001b[0m \u001b[0;34m=\u001b[0m \u001b[0mself\u001b[0m\u001b[0;34m.\u001b[0m\u001b[0m_print\u001b[0m\u001b[0;34m(\u001b[0m\u001b[0mexpr\u001b[0m\u001b[0;34m)\u001b[0m\u001b[0;34m.\u001b[0m\u001b[0msplitlines\u001b[0m\u001b[0;34m(\u001b[0m\u001b[0;34m)\u001b[0m\u001b[0;34m\u001b[0m\u001b[0;34m\u001b[0m\u001b[0m\n\u001b[0m\u001b[1;32m    151\u001b[0m \u001b[0;34m\u001b[0m\u001b[0m\n\u001b[1;32m    152\u001b[0m         \u001b[0;31m# format the output\u001b[0m\u001b[0;34m\u001b[0m\u001b[0;34m\u001b[0m\u001b[0m\n",
      "\u001b[0;32m/usr/local/lib/python3.9/site-packages/sympy/printing/printer.py\u001b[0m in \u001b[0;36m_print\u001b[0;34m(self, expr, **kwargs)\u001b[0m\n\u001b[1;32m    329\u001b[0m                 \u001b[0mprintmethod\u001b[0m \u001b[0;34m=\u001b[0m \u001b[0mgetattr\u001b[0m\u001b[0;34m(\u001b[0m\u001b[0mself\u001b[0m\u001b[0;34m,\u001b[0m \u001b[0mprintmethodname\u001b[0m\u001b[0;34m,\u001b[0m \u001b[0;32mNone\u001b[0m\u001b[0;34m)\u001b[0m\u001b[0;34m\u001b[0m\u001b[0;34m\u001b[0m\u001b[0m\n\u001b[1;32m    330\u001b[0m                 \u001b[0;32mif\u001b[0m \u001b[0mprintmethod\u001b[0m \u001b[0;32mis\u001b[0m \u001b[0;32mnot\u001b[0m \u001b[0;32mNone\u001b[0m\u001b[0;34m:\u001b[0m\u001b[0;34m\u001b[0m\u001b[0;34m\u001b[0m\u001b[0m\n\u001b[0;32m--> 331\u001b[0;31m                     \u001b[0;32mreturn\u001b[0m \u001b[0mprintmethod\u001b[0m\u001b[0;34m(\u001b[0m\u001b[0mexpr\u001b[0m\u001b[0;34m,\u001b[0m \u001b[0;34m**\u001b[0m\u001b[0mkwargs\u001b[0m\u001b[0;34m)\u001b[0m\u001b[0;34m\u001b[0m\u001b[0;34m\u001b[0m\u001b[0m\n\u001b[0m\u001b[1;32m    332\u001b[0m             \u001b[0;31m# Unknown object, fall back to the emptyPrinter.\u001b[0m\u001b[0;34m\u001b[0m\u001b[0;34m\u001b[0m\u001b[0m\n\u001b[1;32m    333\u001b[0m             \u001b[0;32mreturn\u001b[0m \u001b[0mself\u001b[0m\u001b[0;34m.\u001b[0m\u001b[0memptyPrinter\u001b[0m\u001b[0;34m(\u001b[0m\u001b[0mexpr\u001b[0m\u001b[0;34m)\u001b[0m\u001b[0;34m\u001b[0m\u001b[0;34m\u001b[0m\u001b[0m\n",
      "\u001b[0;32m/usr/local/lib/python3.9/site-packages/sympy/printing/c.py\u001b[0m in \u001b[0;36m_meth_wrapper\u001b[0;34m(self, expr, **kwargs)\u001b[0m\n\u001b[1;32m    138\u001b[0m             \u001b[0;32mreturn\u001b[0m \u001b[0;34m'%s%s'\u001b[0m \u001b[0;34m%\u001b[0m \u001b[0;34m(\u001b[0m\u001b[0mself\u001b[0m\u001b[0;34m.\u001b[0m\u001b[0mmath_macros\u001b[0m\u001b[0;34m[\u001b[0m\u001b[0mexpr\u001b[0m\u001b[0;34m]\u001b[0m\u001b[0;34m,\u001b[0m \u001b[0mself\u001b[0m\u001b[0;34m.\u001b[0m\u001b[0m_get_math_macro_suffix\u001b[0m\u001b[0;34m(\u001b[0m\u001b[0mreal\u001b[0m\u001b[0;34m)\u001b[0m\u001b[0;34m)\u001b[0m\u001b[0;34m\u001b[0m\u001b[0;34m\u001b[0m\u001b[0m\n\u001b[1;32m    139\u001b[0m         \u001b[0;32melse\u001b[0m\u001b[0;34m:\u001b[0m\u001b[0;34m\u001b[0m\u001b[0;34m\u001b[0m\u001b[0m\n\u001b[0;32m--> 140\u001b[0;31m             \u001b[0;32mreturn\u001b[0m \u001b[0mmeth\u001b[0m\u001b[0;34m(\u001b[0m\u001b[0mself\u001b[0m\u001b[0;34m,\u001b[0m \u001b[0mexpr\u001b[0m\u001b[0;34m,\u001b[0m \u001b[0;34m**\u001b[0m\u001b[0mkwargs\u001b[0m\u001b[0;34m)\u001b[0m\u001b[0;34m\u001b[0m\u001b[0;34m\u001b[0m\u001b[0m\n\u001b[0m\u001b[1;32m    141\u001b[0m \u001b[0;34m\u001b[0m\u001b[0m\n\u001b[1;32m    142\u001b[0m     \u001b[0;32mreturn\u001b[0m \u001b[0m_meth_wrapper\u001b[0m\u001b[0;34m\u001b[0m\u001b[0;34m\u001b[0m\u001b[0m\n",
      "\u001b[0;32m/usr/local/lib/python3.9/site-packages/sympy/printing/c.py\u001b[0m in \u001b[0;36m_print_Mul\u001b[0;34m(self, expr, **kwargs)\u001b[0m\n\u001b[1;32m    273\u001b[0m     \u001b[0;34m@\u001b[0m\u001b[0m_as_macro_if_defined\u001b[0m\u001b[0;34m\u001b[0m\u001b[0;34m\u001b[0m\u001b[0m\n\u001b[1;32m    274\u001b[0m     \u001b[0;32mdef\u001b[0m \u001b[0m_print_Mul\u001b[0m\u001b[0;34m(\u001b[0m\u001b[0mself\u001b[0m\u001b[0;34m,\u001b[0m \u001b[0mexpr\u001b[0m\u001b[0;34m,\u001b[0m \u001b[0;34m**\u001b[0m\u001b[0mkwargs\u001b[0m\u001b[0;34m)\u001b[0m\u001b[0;34m:\u001b[0m\u001b[0;34m\u001b[0m\u001b[0;34m\u001b[0m\u001b[0m\n\u001b[0;32m--> 275\u001b[0;31m         \u001b[0;32mreturn\u001b[0m \u001b[0msuper\u001b[0m\u001b[0;34m(\u001b[0m\u001b[0;34m)\u001b[0m\u001b[0;34m.\u001b[0m\u001b[0m_print_Mul\u001b[0m\u001b[0;34m(\u001b[0m\u001b[0mexpr\u001b[0m\u001b[0;34m,\u001b[0m \u001b[0;34m**\u001b[0m\u001b[0mkwargs\u001b[0m\u001b[0;34m)\u001b[0m\u001b[0;34m\u001b[0m\u001b[0;34m\u001b[0m\u001b[0m\n\u001b[0m\u001b[1;32m    276\u001b[0m \u001b[0;34m\u001b[0m\u001b[0m\n\u001b[1;32m    277\u001b[0m     \u001b[0;34m@\u001b[0m\u001b[0m_as_macro_if_defined\u001b[0m\u001b[0;34m\u001b[0m\u001b[0;34m\u001b[0m\u001b[0m\n",
      "\u001b[0;32m/usr/local/lib/python3.9/site-packages/sympy/printing/codeprinter.py\u001b[0m in \u001b[0;36m_print_Mul\u001b[0;34m(self, expr)\u001b[0m\n\u001b[1;32m    543\u001b[0m             \u001b[0ma_str\u001b[0m \u001b[0;34m=\u001b[0m \u001b[0;34m[\u001b[0m\u001b[0mself\u001b[0m\u001b[0;34m.\u001b[0m\u001b[0mparenthesize\u001b[0m\u001b[0;34m(\u001b[0m\u001b[0ma\u001b[0m\u001b[0;34m[\u001b[0m\u001b[0;36m0\u001b[0m\u001b[0;34m]\u001b[0m\u001b[0;34m,\u001b[0m \u001b[0;36m0.5\u001b[0m\u001b[0;34m*\u001b[0m\u001b[0;34m(\u001b[0m\u001b[0mPRECEDENCE\u001b[0m\u001b[0;34m[\u001b[0m\u001b[0;34m\"Pow\"\u001b[0m\u001b[0;34m]\u001b[0m\u001b[0;34m+\u001b[0m\u001b[0mPRECEDENCE\u001b[0m\u001b[0;34m[\u001b[0m\u001b[0;34m\"Mul\"\u001b[0m\u001b[0;34m]\u001b[0m\u001b[0;34m)\u001b[0m\u001b[0;34m)\u001b[0m\u001b[0;34m]\u001b[0m\u001b[0;34m\u001b[0m\u001b[0;34m\u001b[0m\u001b[0m\n\u001b[1;32m    544\u001b[0m         \u001b[0;32melse\u001b[0m\u001b[0;34m:\u001b[0m\u001b[0;34m\u001b[0m\u001b[0;34m\u001b[0m\u001b[0m\n\u001b[0;32m--> 545\u001b[0;31m             \u001b[0ma_str\u001b[0m \u001b[0;34m=\u001b[0m \u001b[0;34m[\u001b[0m\u001b[0mself\u001b[0m\u001b[0;34m.\u001b[0m\u001b[0mparenthesize\u001b[0m\u001b[0;34m(\u001b[0m\u001b[0mx\u001b[0m\u001b[0;34m,\u001b[0m \u001b[0mprec\u001b[0m\u001b[0;34m)\u001b[0m \u001b[0;32mfor\u001b[0m \u001b[0mx\u001b[0m \u001b[0;32min\u001b[0m \u001b[0ma\u001b[0m\u001b[0;34m]\u001b[0m\u001b[0;34m\u001b[0m\u001b[0;34m\u001b[0m\u001b[0m\n\u001b[0m\u001b[1;32m    546\u001b[0m         \u001b[0mb_str\u001b[0m \u001b[0;34m=\u001b[0m \u001b[0;34m[\u001b[0m\u001b[0mself\u001b[0m\u001b[0;34m.\u001b[0m\u001b[0mparenthesize\u001b[0m\u001b[0;34m(\u001b[0m\u001b[0mx\u001b[0m\u001b[0;34m,\u001b[0m \u001b[0mprec\u001b[0m\u001b[0;34m)\u001b[0m \u001b[0;32mfor\u001b[0m \u001b[0mx\u001b[0m \u001b[0;32min\u001b[0m \u001b[0mb\u001b[0m\u001b[0;34m]\u001b[0m\u001b[0;34m\u001b[0m\u001b[0;34m\u001b[0m\u001b[0m\n\u001b[1;32m    547\u001b[0m \u001b[0;34m\u001b[0m\u001b[0m\n",
      "\u001b[0;32m/usr/local/lib/python3.9/site-packages/sympy/printing/codeprinter.py\u001b[0m in \u001b[0;36m<listcomp>\u001b[0;34m(.0)\u001b[0m\n\u001b[1;32m    543\u001b[0m             \u001b[0ma_str\u001b[0m \u001b[0;34m=\u001b[0m \u001b[0;34m[\u001b[0m\u001b[0mself\u001b[0m\u001b[0;34m.\u001b[0m\u001b[0mparenthesize\u001b[0m\u001b[0;34m(\u001b[0m\u001b[0ma\u001b[0m\u001b[0;34m[\u001b[0m\u001b[0;36m0\u001b[0m\u001b[0;34m]\u001b[0m\u001b[0;34m,\u001b[0m \u001b[0;36m0.5\u001b[0m\u001b[0;34m*\u001b[0m\u001b[0;34m(\u001b[0m\u001b[0mPRECEDENCE\u001b[0m\u001b[0;34m[\u001b[0m\u001b[0;34m\"Pow\"\u001b[0m\u001b[0;34m]\u001b[0m\u001b[0;34m+\u001b[0m\u001b[0mPRECEDENCE\u001b[0m\u001b[0;34m[\u001b[0m\u001b[0;34m\"Mul\"\u001b[0m\u001b[0;34m]\u001b[0m\u001b[0;34m)\u001b[0m\u001b[0;34m)\u001b[0m\u001b[0;34m]\u001b[0m\u001b[0;34m\u001b[0m\u001b[0;34m\u001b[0m\u001b[0m\n\u001b[1;32m    544\u001b[0m         \u001b[0;32melse\u001b[0m\u001b[0;34m:\u001b[0m\u001b[0;34m\u001b[0m\u001b[0;34m\u001b[0m\u001b[0m\n\u001b[0;32m--> 545\u001b[0;31m             \u001b[0ma_str\u001b[0m \u001b[0;34m=\u001b[0m \u001b[0;34m[\u001b[0m\u001b[0mself\u001b[0m\u001b[0;34m.\u001b[0m\u001b[0mparenthesize\u001b[0m\u001b[0;34m(\u001b[0m\u001b[0mx\u001b[0m\u001b[0;34m,\u001b[0m \u001b[0mprec\u001b[0m\u001b[0;34m)\u001b[0m \u001b[0;32mfor\u001b[0m \u001b[0mx\u001b[0m \u001b[0;32min\u001b[0m \u001b[0ma\u001b[0m\u001b[0;34m]\u001b[0m\u001b[0;34m\u001b[0m\u001b[0;34m\u001b[0m\u001b[0m\n\u001b[0m\u001b[1;32m    546\u001b[0m         \u001b[0mb_str\u001b[0m \u001b[0;34m=\u001b[0m \u001b[0;34m[\u001b[0m\u001b[0mself\u001b[0m\u001b[0;34m.\u001b[0m\u001b[0mparenthesize\u001b[0m\u001b[0;34m(\u001b[0m\u001b[0mx\u001b[0m\u001b[0;34m,\u001b[0m \u001b[0mprec\u001b[0m\u001b[0;34m)\u001b[0m \u001b[0;32mfor\u001b[0m \u001b[0mx\u001b[0m \u001b[0;32min\u001b[0m \u001b[0mb\u001b[0m\u001b[0;34m]\u001b[0m\u001b[0;34m\u001b[0m\u001b[0;34m\u001b[0m\u001b[0m\n\u001b[1;32m    547\u001b[0m \u001b[0;34m\u001b[0m\u001b[0m\n",
      "\u001b[0;32m/usr/local/lib/python3.9/site-packages/sympy/printing/str.py\u001b[0m in \u001b[0;36mparenthesize\u001b[0;34m(self, item, level, strict)\u001b[0m\n\u001b[1;32m     35\u001b[0m     \u001b[0;32mdef\u001b[0m \u001b[0mparenthesize\u001b[0m\u001b[0;34m(\u001b[0m\u001b[0mself\u001b[0m\u001b[0;34m,\u001b[0m \u001b[0mitem\u001b[0m\u001b[0;34m,\u001b[0m \u001b[0mlevel\u001b[0m\u001b[0;34m,\u001b[0m \u001b[0mstrict\u001b[0m\u001b[0;34m=\u001b[0m\u001b[0;32mFalse\u001b[0m\u001b[0;34m)\u001b[0m\u001b[0;34m:\u001b[0m\u001b[0;34m\u001b[0m\u001b[0;34m\u001b[0m\u001b[0m\n\u001b[1;32m     36\u001b[0m         \u001b[0;32mif\u001b[0m \u001b[0;34m(\u001b[0m\u001b[0mprecedence\u001b[0m\u001b[0;34m(\u001b[0m\u001b[0mitem\u001b[0m\u001b[0;34m)\u001b[0m \u001b[0;34m<\u001b[0m \u001b[0mlevel\u001b[0m\u001b[0;34m)\u001b[0m \u001b[0;32mor\u001b[0m \u001b[0;34m(\u001b[0m\u001b[0;34m(\u001b[0m\u001b[0;32mnot\u001b[0m \u001b[0mstrict\u001b[0m\u001b[0;34m)\u001b[0m \u001b[0;32mand\u001b[0m \u001b[0mprecedence\u001b[0m\u001b[0;34m(\u001b[0m\u001b[0mitem\u001b[0m\u001b[0;34m)\u001b[0m \u001b[0;34m<=\u001b[0m \u001b[0mlevel\u001b[0m\u001b[0;34m)\u001b[0m\u001b[0;34m:\u001b[0m\u001b[0;34m\u001b[0m\u001b[0;34m\u001b[0m\u001b[0m\n\u001b[0;32m---> 37\u001b[0;31m             \u001b[0;32mreturn\u001b[0m \u001b[0;34m\"(%s)\"\u001b[0m \u001b[0;34m%\u001b[0m \u001b[0mself\u001b[0m\u001b[0;34m.\u001b[0m\u001b[0m_print\u001b[0m\u001b[0;34m(\u001b[0m\u001b[0mitem\u001b[0m\u001b[0;34m)\u001b[0m\u001b[0;34m\u001b[0m\u001b[0;34m\u001b[0m\u001b[0m\n\u001b[0m\u001b[1;32m     38\u001b[0m         \u001b[0;32melse\u001b[0m\u001b[0;34m:\u001b[0m\u001b[0;34m\u001b[0m\u001b[0;34m\u001b[0m\u001b[0m\n\u001b[1;32m     39\u001b[0m             \u001b[0;32mreturn\u001b[0m \u001b[0mself\u001b[0m\u001b[0;34m.\u001b[0m\u001b[0m_print\u001b[0m\u001b[0;34m(\u001b[0m\u001b[0mitem\u001b[0m\u001b[0;34m)\u001b[0m\u001b[0;34m\u001b[0m\u001b[0;34m\u001b[0m\u001b[0m\n",
      "\u001b[0;32m/usr/local/lib/python3.9/site-packages/sympy/printing/printer.py\u001b[0m in \u001b[0;36m_print\u001b[0;34m(self, expr, **kwargs)\u001b[0m\n\u001b[1;32m    329\u001b[0m                 \u001b[0mprintmethod\u001b[0m \u001b[0;34m=\u001b[0m \u001b[0mgetattr\u001b[0m\u001b[0;34m(\u001b[0m\u001b[0mself\u001b[0m\u001b[0;34m,\u001b[0m \u001b[0mprintmethodname\u001b[0m\u001b[0;34m,\u001b[0m \u001b[0;32mNone\u001b[0m\u001b[0;34m)\u001b[0m\u001b[0;34m\u001b[0m\u001b[0;34m\u001b[0m\u001b[0m\n\u001b[1;32m    330\u001b[0m                 \u001b[0;32mif\u001b[0m \u001b[0mprintmethod\u001b[0m \u001b[0;32mis\u001b[0m \u001b[0;32mnot\u001b[0m \u001b[0;32mNone\u001b[0m\u001b[0;34m:\u001b[0m\u001b[0;34m\u001b[0m\u001b[0;34m\u001b[0m\u001b[0m\n\u001b[0;32m--> 331\u001b[0;31m                     \u001b[0;32mreturn\u001b[0m \u001b[0mprintmethod\u001b[0m\u001b[0;34m(\u001b[0m\u001b[0mexpr\u001b[0m\u001b[0;34m,\u001b[0m \u001b[0;34m**\u001b[0m\u001b[0mkwargs\u001b[0m\u001b[0;34m)\u001b[0m\u001b[0;34m\u001b[0m\u001b[0;34m\u001b[0m\u001b[0m\n\u001b[0m\u001b[1;32m    332\u001b[0m             \u001b[0;31m# Unknown object, fall back to the emptyPrinter.\u001b[0m\u001b[0;34m\u001b[0m\u001b[0;34m\u001b[0m\u001b[0m\n\u001b[1;32m    333\u001b[0m             \u001b[0;32mreturn\u001b[0m \u001b[0mself\u001b[0m\u001b[0;34m.\u001b[0m\u001b[0memptyPrinter\u001b[0m\u001b[0;34m(\u001b[0m\u001b[0mexpr\u001b[0m\u001b[0;34m)\u001b[0m\u001b[0;34m\u001b[0m\u001b[0;34m\u001b[0m\u001b[0m\n",
      "\u001b[0;32m/usr/local/lib/python3.9/site-packages/sympy/printing/str.py\u001b[0m in \u001b[0;36m_print_Add\u001b[0;34m(self, expr, order)\u001b[0m\n\u001b[1;32m     56\u001b[0m         \u001b[0ml\u001b[0m \u001b[0;34m=\u001b[0m \u001b[0;34m[\u001b[0m\u001b[0;34m]\u001b[0m\u001b[0;34m\u001b[0m\u001b[0;34m\u001b[0m\u001b[0m\n\u001b[1;32m     57\u001b[0m         \u001b[0;32mfor\u001b[0m \u001b[0mterm\u001b[0m \u001b[0;32min\u001b[0m \u001b[0mterms\u001b[0m\u001b[0;34m:\u001b[0m\u001b[0;34m\u001b[0m\u001b[0;34m\u001b[0m\u001b[0m\n\u001b[0;32m---> 58\u001b[0;31m             \u001b[0mt\u001b[0m \u001b[0;34m=\u001b[0m \u001b[0mself\u001b[0m\u001b[0;34m.\u001b[0m\u001b[0m_print\u001b[0m\u001b[0;34m(\u001b[0m\u001b[0mterm\u001b[0m\u001b[0;34m)\u001b[0m\u001b[0;34m\u001b[0m\u001b[0;34m\u001b[0m\u001b[0m\n\u001b[0m\u001b[1;32m     59\u001b[0m             \u001b[0;32mif\u001b[0m \u001b[0mt\u001b[0m\u001b[0;34m.\u001b[0m\u001b[0mstartswith\u001b[0m\u001b[0;34m(\u001b[0m\u001b[0;34m'-'\u001b[0m\u001b[0;34m)\u001b[0m\u001b[0;34m:\u001b[0m\u001b[0;34m\u001b[0m\u001b[0;34m\u001b[0m\u001b[0m\n\u001b[1;32m     60\u001b[0m                 \u001b[0msign\u001b[0m \u001b[0;34m=\u001b[0m \u001b[0;34m\"-\"\u001b[0m\u001b[0;34m\u001b[0m\u001b[0;34m\u001b[0m\u001b[0m\n",
      "\u001b[0;32m/usr/local/lib/python3.9/site-packages/sympy/printing/printer.py\u001b[0m in \u001b[0;36m_print\u001b[0;34m(self, expr, **kwargs)\u001b[0m\n\u001b[1;32m    329\u001b[0m                 \u001b[0mprintmethod\u001b[0m \u001b[0;34m=\u001b[0m \u001b[0mgetattr\u001b[0m\u001b[0;34m(\u001b[0m\u001b[0mself\u001b[0m\u001b[0;34m,\u001b[0m \u001b[0mprintmethodname\u001b[0m\u001b[0;34m,\u001b[0m \u001b[0;32mNone\u001b[0m\u001b[0;34m)\u001b[0m\u001b[0;34m\u001b[0m\u001b[0;34m\u001b[0m\u001b[0m\n\u001b[1;32m    330\u001b[0m                 \u001b[0;32mif\u001b[0m \u001b[0mprintmethod\u001b[0m \u001b[0;32mis\u001b[0m \u001b[0;32mnot\u001b[0m \u001b[0;32mNone\u001b[0m\u001b[0;34m:\u001b[0m\u001b[0;34m\u001b[0m\u001b[0;34m\u001b[0m\u001b[0m\n\u001b[0;32m--> 331\u001b[0;31m                     \u001b[0;32mreturn\u001b[0m \u001b[0mprintmethod\u001b[0m\u001b[0;34m(\u001b[0m\u001b[0mexpr\u001b[0m\u001b[0;34m,\u001b[0m \u001b[0;34m**\u001b[0m\u001b[0mkwargs\u001b[0m\u001b[0;34m)\u001b[0m\u001b[0;34m\u001b[0m\u001b[0;34m\u001b[0m\u001b[0m\n\u001b[0m\u001b[1;32m    332\u001b[0m             \u001b[0;31m# Unknown object, fall back to the emptyPrinter.\u001b[0m\u001b[0;34m\u001b[0m\u001b[0;34m\u001b[0m\u001b[0m\n\u001b[1;32m    333\u001b[0m             \u001b[0;32mreturn\u001b[0m \u001b[0mself\u001b[0m\u001b[0;34m.\u001b[0m\u001b[0memptyPrinter\u001b[0m\u001b[0;34m(\u001b[0m\u001b[0mexpr\u001b[0m\u001b[0;34m)\u001b[0m\u001b[0;34m\u001b[0m\u001b[0;34m\u001b[0m\u001b[0m\n",
      "\u001b[0;32m/usr/local/lib/python3.9/site-packages/sympy/printing/c.py\u001b[0m in \u001b[0;36m_meth_wrapper\u001b[0;34m(self, expr, **kwargs)\u001b[0m\n\u001b[1;32m    138\u001b[0m             \u001b[0;32mreturn\u001b[0m \u001b[0;34m'%s%s'\u001b[0m \u001b[0;34m%\u001b[0m \u001b[0;34m(\u001b[0m\u001b[0mself\u001b[0m\u001b[0;34m.\u001b[0m\u001b[0mmath_macros\u001b[0m\u001b[0;34m[\u001b[0m\u001b[0mexpr\u001b[0m\u001b[0;34m]\u001b[0m\u001b[0;34m,\u001b[0m \u001b[0mself\u001b[0m\u001b[0;34m.\u001b[0m\u001b[0m_get_math_macro_suffix\u001b[0m\u001b[0;34m(\u001b[0m\u001b[0mreal\u001b[0m\u001b[0;34m)\u001b[0m\u001b[0;34m)\u001b[0m\u001b[0;34m\u001b[0m\u001b[0;34m\u001b[0m\u001b[0m\n\u001b[1;32m    139\u001b[0m         \u001b[0;32melse\u001b[0m\u001b[0;34m:\u001b[0m\u001b[0;34m\u001b[0m\u001b[0;34m\u001b[0m\u001b[0m\n\u001b[0;32m--> 140\u001b[0;31m             \u001b[0;32mreturn\u001b[0m \u001b[0mmeth\u001b[0m\u001b[0;34m(\u001b[0m\u001b[0mself\u001b[0m\u001b[0;34m,\u001b[0m \u001b[0mexpr\u001b[0m\u001b[0;34m,\u001b[0m \u001b[0;34m**\u001b[0m\u001b[0mkwargs\u001b[0m\u001b[0;34m)\u001b[0m\u001b[0;34m\u001b[0m\u001b[0;34m\u001b[0m\u001b[0m\n\u001b[0m\u001b[1;32m    141\u001b[0m \u001b[0;34m\u001b[0m\u001b[0m\n\u001b[1;32m    142\u001b[0m     \u001b[0;32mreturn\u001b[0m \u001b[0m_meth_wrapper\u001b[0m\u001b[0;34m\u001b[0m\u001b[0;34m\u001b[0m\u001b[0m\n",
      "\u001b[0;32m/usr/local/lib/python3.9/site-packages/sympy/printing/c.py\u001b[0m in \u001b[0;36m_print_Mul\u001b[0;34m(self, expr, **kwargs)\u001b[0m\n\u001b[1;32m    273\u001b[0m     \u001b[0;34m@\u001b[0m\u001b[0m_as_macro_if_defined\u001b[0m\u001b[0;34m\u001b[0m\u001b[0;34m\u001b[0m\u001b[0m\n\u001b[1;32m    274\u001b[0m     \u001b[0;32mdef\u001b[0m \u001b[0m_print_Mul\u001b[0m\u001b[0;34m(\u001b[0m\u001b[0mself\u001b[0m\u001b[0;34m,\u001b[0m \u001b[0mexpr\u001b[0m\u001b[0;34m,\u001b[0m \u001b[0;34m**\u001b[0m\u001b[0mkwargs\u001b[0m\u001b[0;34m)\u001b[0m\u001b[0;34m:\u001b[0m\u001b[0;34m\u001b[0m\u001b[0;34m\u001b[0m\u001b[0m\n\u001b[0;32m--> 275\u001b[0;31m         \u001b[0;32mreturn\u001b[0m \u001b[0msuper\u001b[0m\u001b[0;34m(\u001b[0m\u001b[0;34m)\u001b[0m\u001b[0;34m.\u001b[0m\u001b[0m_print_Mul\u001b[0m\u001b[0;34m(\u001b[0m\u001b[0mexpr\u001b[0m\u001b[0;34m,\u001b[0m \u001b[0;34m**\u001b[0m\u001b[0mkwargs\u001b[0m\u001b[0;34m)\u001b[0m\u001b[0;34m\u001b[0m\u001b[0;34m\u001b[0m\u001b[0m\n\u001b[0m\u001b[1;32m    276\u001b[0m \u001b[0;34m\u001b[0m\u001b[0m\n\u001b[1;32m    277\u001b[0m     \u001b[0;34m@\u001b[0m\u001b[0m_as_macro_if_defined\u001b[0m\u001b[0;34m\u001b[0m\u001b[0;34m\u001b[0m\u001b[0m\n",
      "\u001b[0;32m/usr/local/lib/python3.9/site-packages/sympy/printing/codeprinter.py\u001b[0m in \u001b[0;36m_print_Mul\u001b[0;34m(self, expr)\u001b[0m\n\u001b[1;32m    543\u001b[0m             \u001b[0ma_str\u001b[0m \u001b[0;34m=\u001b[0m \u001b[0;34m[\u001b[0m\u001b[0mself\u001b[0m\u001b[0;34m.\u001b[0m\u001b[0mparenthesize\u001b[0m\u001b[0;34m(\u001b[0m\u001b[0ma\u001b[0m\u001b[0;34m[\u001b[0m\u001b[0;36m0\u001b[0m\u001b[0;34m]\u001b[0m\u001b[0;34m,\u001b[0m \u001b[0;36m0.5\u001b[0m\u001b[0;34m*\u001b[0m\u001b[0;34m(\u001b[0m\u001b[0mPRECEDENCE\u001b[0m\u001b[0;34m[\u001b[0m\u001b[0;34m\"Pow\"\u001b[0m\u001b[0;34m]\u001b[0m\u001b[0;34m+\u001b[0m\u001b[0mPRECEDENCE\u001b[0m\u001b[0;34m[\u001b[0m\u001b[0;34m\"Mul\"\u001b[0m\u001b[0;34m]\u001b[0m\u001b[0;34m)\u001b[0m\u001b[0;34m)\u001b[0m\u001b[0;34m]\u001b[0m\u001b[0;34m\u001b[0m\u001b[0;34m\u001b[0m\u001b[0m\n\u001b[1;32m    544\u001b[0m         \u001b[0;32melse\u001b[0m\u001b[0;34m:\u001b[0m\u001b[0;34m\u001b[0m\u001b[0;34m\u001b[0m\u001b[0m\n\u001b[0;32m--> 545\u001b[0;31m             \u001b[0ma_str\u001b[0m \u001b[0;34m=\u001b[0m \u001b[0;34m[\u001b[0m\u001b[0mself\u001b[0m\u001b[0;34m.\u001b[0m\u001b[0mparenthesize\u001b[0m\u001b[0;34m(\u001b[0m\u001b[0mx\u001b[0m\u001b[0;34m,\u001b[0m \u001b[0mprec\u001b[0m\u001b[0;34m)\u001b[0m \u001b[0;32mfor\u001b[0m \u001b[0mx\u001b[0m \u001b[0;32min\u001b[0m \u001b[0ma\u001b[0m\u001b[0;34m]\u001b[0m\u001b[0;34m\u001b[0m\u001b[0;34m\u001b[0m\u001b[0m\n\u001b[0m\u001b[1;32m    546\u001b[0m         \u001b[0mb_str\u001b[0m \u001b[0;34m=\u001b[0m \u001b[0;34m[\u001b[0m\u001b[0mself\u001b[0m\u001b[0;34m.\u001b[0m\u001b[0mparenthesize\u001b[0m\u001b[0;34m(\u001b[0m\u001b[0mx\u001b[0m\u001b[0;34m,\u001b[0m \u001b[0mprec\u001b[0m\u001b[0;34m)\u001b[0m \u001b[0;32mfor\u001b[0m \u001b[0mx\u001b[0m \u001b[0;32min\u001b[0m \u001b[0mb\u001b[0m\u001b[0;34m]\u001b[0m\u001b[0;34m\u001b[0m\u001b[0;34m\u001b[0m\u001b[0m\n\u001b[1;32m    547\u001b[0m \u001b[0;34m\u001b[0m\u001b[0m\n",
      "\u001b[0;32m/usr/local/lib/python3.9/site-packages/sympy/printing/codeprinter.py\u001b[0m in \u001b[0;36m<listcomp>\u001b[0;34m(.0)\u001b[0m\n\u001b[1;32m    543\u001b[0m             \u001b[0ma_str\u001b[0m \u001b[0;34m=\u001b[0m \u001b[0;34m[\u001b[0m\u001b[0mself\u001b[0m\u001b[0;34m.\u001b[0m\u001b[0mparenthesize\u001b[0m\u001b[0;34m(\u001b[0m\u001b[0ma\u001b[0m\u001b[0;34m[\u001b[0m\u001b[0;36m0\u001b[0m\u001b[0;34m]\u001b[0m\u001b[0;34m,\u001b[0m \u001b[0;36m0.5\u001b[0m\u001b[0;34m*\u001b[0m\u001b[0;34m(\u001b[0m\u001b[0mPRECEDENCE\u001b[0m\u001b[0;34m[\u001b[0m\u001b[0;34m\"Pow\"\u001b[0m\u001b[0;34m]\u001b[0m\u001b[0;34m+\u001b[0m\u001b[0mPRECEDENCE\u001b[0m\u001b[0;34m[\u001b[0m\u001b[0;34m\"Mul\"\u001b[0m\u001b[0;34m]\u001b[0m\u001b[0;34m)\u001b[0m\u001b[0;34m)\u001b[0m\u001b[0;34m]\u001b[0m\u001b[0;34m\u001b[0m\u001b[0;34m\u001b[0m\u001b[0m\n\u001b[1;32m    544\u001b[0m         \u001b[0;32melse\u001b[0m\u001b[0;34m:\u001b[0m\u001b[0;34m\u001b[0m\u001b[0;34m\u001b[0m\u001b[0m\n\u001b[0;32m--> 545\u001b[0;31m             \u001b[0ma_str\u001b[0m \u001b[0;34m=\u001b[0m \u001b[0;34m[\u001b[0m\u001b[0mself\u001b[0m\u001b[0;34m.\u001b[0m\u001b[0mparenthesize\u001b[0m\u001b[0;34m(\u001b[0m\u001b[0mx\u001b[0m\u001b[0;34m,\u001b[0m \u001b[0mprec\u001b[0m\u001b[0;34m)\u001b[0m \u001b[0;32mfor\u001b[0m \u001b[0mx\u001b[0m \u001b[0;32min\u001b[0m \u001b[0ma\u001b[0m\u001b[0;34m]\u001b[0m\u001b[0;34m\u001b[0m\u001b[0;34m\u001b[0m\u001b[0m\n\u001b[0m\u001b[1;32m    546\u001b[0m         \u001b[0mb_str\u001b[0m \u001b[0;34m=\u001b[0m \u001b[0;34m[\u001b[0m\u001b[0mself\u001b[0m\u001b[0;34m.\u001b[0m\u001b[0mparenthesize\u001b[0m\u001b[0;34m(\u001b[0m\u001b[0mx\u001b[0m\u001b[0;34m,\u001b[0m \u001b[0mprec\u001b[0m\u001b[0;34m)\u001b[0m \u001b[0;32mfor\u001b[0m \u001b[0mx\u001b[0m \u001b[0;32min\u001b[0m \u001b[0mb\u001b[0m\u001b[0;34m]\u001b[0m\u001b[0;34m\u001b[0m\u001b[0;34m\u001b[0m\u001b[0m\n\u001b[1;32m    547\u001b[0m \u001b[0;34m\u001b[0m\u001b[0m\n",
      "\u001b[0;32m/usr/local/lib/python3.9/site-packages/sympy/printing/str.py\u001b[0m in \u001b[0;36mparenthesize\u001b[0;34m(self, item, level, strict)\u001b[0m\n\u001b[1;32m     37\u001b[0m             \u001b[0;32mreturn\u001b[0m \u001b[0;34m\"(%s)\"\u001b[0m \u001b[0;34m%\u001b[0m \u001b[0mself\u001b[0m\u001b[0;34m.\u001b[0m\u001b[0m_print\u001b[0m\u001b[0;34m(\u001b[0m\u001b[0mitem\u001b[0m\u001b[0;34m)\u001b[0m\u001b[0;34m\u001b[0m\u001b[0;34m\u001b[0m\u001b[0m\n\u001b[1;32m     38\u001b[0m         \u001b[0;32melse\u001b[0m\u001b[0;34m:\u001b[0m\u001b[0;34m\u001b[0m\u001b[0;34m\u001b[0m\u001b[0m\n\u001b[0;32m---> 39\u001b[0;31m             \u001b[0;32mreturn\u001b[0m \u001b[0mself\u001b[0m\u001b[0;34m.\u001b[0m\u001b[0m_print\u001b[0m\u001b[0;34m(\u001b[0m\u001b[0mitem\u001b[0m\u001b[0;34m)\u001b[0m\u001b[0;34m\u001b[0m\u001b[0;34m\u001b[0m\u001b[0m\n\u001b[0m\u001b[1;32m     40\u001b[0m \u001b[0;34m\u001b[0m\u001b[0m\n\u001b[1;32m     41\u001b[0m     \u001b[0;32mdef\u001b[0m \u001b[0mstringify\u001b[0m\u001b[0;34m(\u001b[0m\u001b[0mself\u001b[0m\u001b[0;34m,\u001b[0m \u001b[0margs\u001b[0m\u001b[0;34m,\u001b[0m \u001b[0msep\u001b[0m\u001b[0;34m,\u001b[0m \u001b[0mlevel\u001b[0m\u001b[0;34m=\u001b[0m\u001b[0;36m0\u001b[0m\u001b[0;34m)\u001b[0m\u001b[0;34m:\u001b[0m\u001b[0;34m\u001b[0m\u001b[0;34m\u001b[0m\u001b[0m\n",
      "\u001b[0;32m/usr/local/lib/python3.9/site-packages/sympy/printing/printer.py\u001b[0m in \u001b[0;36m_print\u001b[0;34m(self, expr, **kwargs)\u001b[0m\n\u001b[1;32m    329\u001b[0m                 \u001b[0mprintmethod\u001b[0m \u001b[0;34m=\u001b[0m \u001b[0mgetattr\u001b[0m\u001b[0;34m(\u001b[0m\u001b[0mself\u001b[0m\u001b[0;34m,\u001b[0m \u001b[0mprintmethodname\u001b[0m\u001b[0;34m,\u001b[0m \u001b[0;32mNone\u001b[0m\u001b[0;34m)\u001b[0m\u001b[0;34m\u001b[0m\u001b[0;34m\u001b[0m\u001b[0m\n\u001b[1;32m    330\u001b[0m                 \u001b[0;32mif\u001b[0m \u001b[0mprintmethod\u001b[0m \u001b[0;32mis\u001b[0m \u001b[0;32mnot\u001b[0m \u001b[0;32mNone\u001b[0m\u001b[0;34m:\u001b[0m\u001b[0;34m\u001b[0m\u001b[0;34m\u001b[0m\u001b[0m\n\u001b[0;32m--> 331\u001b[0;31m                     \u001b[0;32mreturn\u001b[0m \u001b[0mprintmethod\u001b[0m\u001b[0;34m(\u001b[0m\u001b[0mexpr\u001b[0m\u001b[0;34m,\u001b[0m \u001b[0;34m**\u001b[0m\u001b[0mkwargs\u001b[0m\u001b[0;34m)\u001b[0m\u001b[0;34m\u001b[0m\u001b[0;34m\u001b[0m\u001b[0m\n\u001b[0m\u001b[1;32m    332\u001b[0m             \u001b[0;31m# Unknown object, fall back to the emptyPrinter.\u001b[0m\u001b[0;34m\u001b[0m\u001b[0;34m\u001b[0m\u001b[0m\n\u001b[1;32m    333\u001b[0m             \u001b[0;32mreturn\u001b[0m \u001b[0mself\u001b[0m\u001b[0;34m.\u001b[0m\u001b[0memptyPrinter\u001b[0m\u001b[0;34m(\u001b[0m\u001b[0mexpr\u001b[0m\u001b[0;34m)\u001b[0m\u001b[0;34m\u001b[0m\u001b[0;34m\u001b[0m\u001b[0m\n",
      "\u001b[0;32m/usr/local/lib/python3.9/site-packages/sympy/printing/c.py\u001b[0m in \u001b[0;36m_print_Indexed\u001b[0;34m(self, expr)\u001b[0m\n\u001b[1;32m    319\u001b[0m \u001b[0;34m\u001b[0m\u001b[0m\n\u001b[1;32m    320\u001b[0m         \u001b[0;32mif\u001b[0m \u001b[0mstrides\u001b[0m \u001b[0;32mis\u001b[0m \u001b[0;32mNone\u001b[0m \u001b[0;32mor\u001b[0m \u001b[0misinstance\u001b[0m\u001b[0;34m(\u001b[0m\u001b[0mstrides\u001b[0m\u001b[0;34m,\u001b[0m \u001b[0mstr\u001b[0m\u001b[0;34m)\u001b[0m\u001b[0;34m:\u001b[0m\u001b[0;34m\u001b[0m\u001b[0;34m\u001b[0m\u001b[0m\n\u001b[0;32m--> 321\u001b[0;31m             \u001b[0mdims\u001b[0m \u001b[0;34m=\u001b[0m \u001b[0mexpr\u001b[0m\u001b[0;34m.\u001b[0m\u001b[0mshape\u001b[0m\u001b[0;34m\u001b[0m\u001b[0;34m\u001b[0m\u001b[0m\n\u001b[0m\u001b[1;32m    322\u001b[0m             \u001b[0mshift\u001b[0m \u001b[0;34m=\u001b[0m \u001b[0mS\u001b[0m\u001b[0;34m.\u001b[0m\u001b[0mOne\u001b[0m\u001b[0;34m\u001b[0m\u001b[0;34m\u001b[0m\u001b[0m\n\u001b[1;32m    323\u001b[0m             \u001b[0mtemp\u001b[0m \u001b[0;34m=\u001b[0m \u001b[0mtuple\u001b[0m\u001b[0;34m(\u001b[0m\u001b[0;34m)\u001b[0m\u001b[0;34m\u001b[0m\u001b[0;34m\u001b[0m\u001b[0m\n",
      "\u001b[0;32m/usr/local/lib/python3.9/site-packages/sympy/tensor/indexed.py\u001b[0m in \u001b[0;36mshape\u001b[0;34m(self)\u001b[0m\n\u001b[1;32m    294\u001b[0m             \u001b[0mlower\u001b[0m \u001b[0;34m=\u001b[0m \u001b[0mgetattr\u001b[0m\u001b[0;34m(\u001b[0m\u001b[0mi\u001b[0m\u001b[0;34m,\u001b[0m \u001b[0;34m'lower'\u001b[0m\u001b[0;34m,\u001b[0m \u001b[0;32mNone\u001b[0m\u001b[0;34m)\u001b[0m\u001b[0;34m\u001b[0m\u001b[0;34m\u001b[0m\u001b[0m\n\u001b[1;32m    295\u001b[0m             \u001b[0;32mif\u001b[0m \u001b[0;32mNone\u001b[0m \u001b[0;32min\u001b[0m \u001b[0;34m(\u001b[0m\u001b[0mupper\u001b[0m\u001b[0;34m,\u001b[0m \u001b[0mlower\u001b[0m\u001b[0;34m)\u001b[0m\u001b[0;34m:\u001b[0m\u001b[0;34m\u001b[0m\u001b[0;34m\u001b[0m\u001b[0m\n\u001b[0;32m--> 296\u001b[0;31m                 raise IndexException(filldedent(\"\"\"\n\u001b[0m\u001b[1;32m    297\u001b[0m                     Range is not defined for all indices in: %s\"\"\" % self))\n\u001b[1;32m    298\u001b[0m             \u001b[0;32mtry\u001b[0m\u001b[0;34m:\u001b[0m\u001b[0;34m\u001b[0m\u001b[0;34m\u001b[0m\u001b[0m\n",
      "\u001b[0;31mIndexException\u001b[0m: \nRange is not defined for all indices in: alpha[i + 1, j]"
     ]
    }
   ],
   "source": [
    "print(ccode(simplify(action_3.expr)))"
   ]
  },
  {
   "cell_type": "code",
   "execution_count": 19,
   "metadata": {},
   "outputs": [
    {
     "name": "stdout",
     "output_type": "stream",
     "text": [
      "   0    0    1    0    0 \n",
      "   0    2   -8    2    0 \n",
      "   1   -8   20   -8    1 \n",
      "   0    2   -8    2    0 \n",
      "   0    0    1    0    0 \n"
     ]
    }
   ],
   "source": [
    "for offset_i in range(5):\n",
    "    s = \"\"\n",
    "    for offset_j in range(5):        \n",
    "        s += \"{:4d} \".format(table[offset_i,offset_j])\n",
    "    print (s)\n",
    "    "
   ]
  },
  {
   "cell_type": "code",
   "execution_count": 48,
   "metadata": {},
   "outputs": [
    {
     "data": {
      "text/latex": [
       "$\\displaystyle {\\Phi}_{i,j}^{2}$"
      ],
      "text/plain": [
       "Phi[i, j]**2"
      ]
     },
     "metadata": {},
     "output_type": "display_data"
    },
    {
     "data": {
      "text/latex": [
       "$\\displaystyle {a}_{2 i + 1,2 j + 1} + {a}_{2 i + 1,2 j} + {a}_{2 i,2 j + 1} + {a}_{2 i,2 j} + {b^{(x)}}_{2 i,2 j + 1} + {b^{(x)}}_{2 i,2 j} + {b^{(y)}}_{2 i + 1,2 j} + {b^{(y)}}_{2 i,2 j}$"
      ],
      "text/plain": [
       "a[2*i + 1, 2*j + 1] + a[2*i + 1, 2*j] + a[2*i, 2*j + 1] + a[2*i, 2*j] + b^(x)[2*i, 2*j + 1] + b^(x)[2*i, 2*j] + b^(y)[2*i + 1, 2*j] + b^(y)[2*i, 2*j]"
      ]
     },
     "metadata": {},
     "output_type": "display_data"
    },
    {
     "name": "stdout",
     "output_type": "stream",
     "text": [
      "----\n"
     ]
    },
    {
     "data": {
      "text/latex": [
       "$\\displaystyle {\\Phi}_{i + 1,j} {\\Phi}_{i,j}$"
      ],
      "text/plain": [
       "Phi[i + 1, j]*Phi[i, j]"
      ]
     },
     "metadata": {},
     "output_type": "display_data"
    },
    {
     "data": {
      "text/latex": [
       "$\\displaystyle {b^{(x)}}_{2 i + 1,2 j + 1} + {b^{(x)}}_{2 i + 1,2 j}$"
      ],
      "text/plain": [
       "b^(x)[2*i + 1, 2*j + 1] + b^(x)[2*i + 1, 2*j]"
      ]
     },
     "metadata": {},
     "output_type": "display_data"
    },
    {
     "name": "stdout",
     "output_type": "stream",
     "text": [
      "----\n"
     ]
    },
    {
     "data": {
      "text/latex": [
       "$\\displaystyle {\\Phi}_{i,j + 1} {\\Phi}_{i,j}$"
      ],
      "text/plain": [
       "Phi[i, j + 1]*Phi[i, j]"
      ]
     },
     "metadata": {},
     "output_type": "display_data"
    },
    {
     "data": {
      "text/latex": [
       "$\\displaystyle {b^{(y)}}_{2 i + 1,2 j + 1} + {b^{(y)}}_{2 i,2 j + 1}$"
      ],
      "text/plain": [
       "b^(y)[2*i + 1, 2*j + 1] + b^(y)[2*i, 2*j + 1]"
      ]
     },
     "metadata": {},
     "output_type": "display_data"
    },
    {
     "name": "stdout",
     "output_type": "stream",
     "text": [
      "----\n"
     ]
    },
    {
     "data": {
      "text/latex": [
       "$\\displaystyle {\\Phi}_{i,j}$"
      ],
      "text/plain": [
       "Phi[i, j]"
      ]
     },
     "metadata": {},
     "output_type": "display_data"
    },
    {
     "data": {
      "text/latex": [
       "$\\displaystyle 2 {a}_{2 i + 1,2 j + 1} {\\psi}_{2 i + 1,2 j + 1} + 2 {a}_{2 i + 1,2 j} {\\psi}_{2 i + 1,2 j} + 2 {a}_{2 i,2 j + 1} {\\psi}_{2 i,2 j + 1} + 2 {a}_{2 i,2 j} {\\psi}_{2 i,2 j} + {b^{(x)}}_{2 i + 1,2 j + 1} {\\psi}_{2 i + 2,2 j + 1} + {b^{(x)}}_{2 i + 1,2 j} {\\psi}_{2 i + 2,2 j} + {b^{(x)}}_{2 i - 1,2 j + 1} {\\psi}_{2 i - 1,2 j + 1} + {b^{(x)}}_{2 i - 1,2 j} {\\psi}_{2 i - 1,2 j} + {b^{(x)}}_{2 i,2 j + 1} {\\psi}_{2 i + 1,2 j + 1} + {b^{(x)}}_{2 i,2 j + 1} {\\psi}_{2 i,2 j + 1} + {b^{(x)}}_{2 i,2 j} {\\psi}_{2 i + 1,2 j} + {b^{(x)}}_{2 i,2 j} {\\psi}_{2 i,2 j} + {b^{(y)}}_{2 i + 1,2 j + 1} {\\psi}_{2 i + 1,2 j + 2} + {b^{(y)}}_{2 i + 1,2 j - 1} {\\psi}_{2 i + 1,2 j - 1} + {b^{(y)}}_{2 i + 1,2 j} {\\psi}_{2 i + 1,2 j + 1} + {b^{(y)}}_{2 i + 1,2 j} {\\psi}_{2 i + 1,2 j} + {b^{(y)}}_{2 i,2 j + 1} {\\psi}_{2 i,2 j + 2} + {b^{(y)}}_{2 i,2 j - 1} {\\psi}_{2 i,2 j - 1} + {b^{(y)}}_{2 i,2 j} {\\psi}_{2 i,2 j + 1} + {b^{(y)}}_{2 i,2 j} {\\psi}_{2 i,2 j} + {c}_{2 i + 1,2 j + 1} + {c}_{2 i + 1,2 j} + {c}_{2 i,2 j + 1} + {c}_{2 i,2 j}$"
      ],
      "text/plain": [
       "2*a[2*i + 1, 2*j + 1]*psi[2*i + 1, 2*j + 1] + 2*a[2*i + 1, 2*j]*psi[2*i + 1, 2*j] + 2*a[2*i, 2*j + 1]*psi[2*i, 2*j + 1] + 2*a[2*i, 2*j]*psi[2*i, 2*j] + b^(x)[2*i + 1, 2*j + 1]*psi[2*i + 2, 2*j + 1] + b^(x)[2*i + 1, 2*j]*psi[2*i + 2, 2*j] + b^(x)[2*i - 1, 2*j + 1]*psi[2*i - 1, 2*j + 1] + b^(x)[2*i - 1, 2*j]*psi[2*i - 1, 2*j] + b^(x)[2*i, 2*j + 1]*psi[2*i + 1, 2*j + 1] + b^(x)[2*i, 2*j + 1]*psi[2*i, 2*j + 1] + b^(x)[2*i, 2*j]*psi[2*i + 1, 2*j] + b^(x)[2*i, 2*j]*psi[2*i, 2*j] + b^(y)[2*i + 1, 2*j + 1]*psi[2*i + 1, 2*j + 2] + b^(y)[2*i + 1, 2*j - 1]*psi[2*i + 1, 2*j - 1] + b^(y)[2*i + 1, 2*j]*psi[2*i + 1, 2*j + 1] + b^(y)[2*i + 1, 2*j]*psi[2*i + 1, 2*j] + b^(y)[2*i, 2*j + 1]*psi[2*i, 2*j + 2] + b^(y)[2*i, 2*j - 1]*psi[2*i, 2*j - 1] + b^(y)[2*i, 2*j]*psi[2*i, 2*j + 1] + b^(y)[2*i, 2*j]*psi[2*i, 2*j] + c[2*i + 1, 2*j + 1] + c[2*i + 1, 2*j] + c[2*i, 2*j + 1] + c[2*i, 2*j]"
      ]
     },
     "metadata": {},
     "output_type": "display_data"
    },
    {
     "name": "stdout",
     "output_type": "stream",
     "text": [
      "----\n"
     ]
    },
    {
     "data": {
      "text/latex": [
       "$\\displaystyle {a}_{2 i + 1,2 j + 1} {\\psi}_{2 i + 1,2 j + 1}^{2} + {a}_{2 i + 1,2 j} {\\psi}_{2 i + 1,2 j}^{2} + {a}_{2 i,2 j + 1} {\\psi}_{2 i,2 j + 1}^{2} + {a}_{2 i,2 j} {\\psi}_{2 i,2 j}^{2} + {b^{(x)}}_{2 i + 1,2 j + 1} {\\psi}_{2 i + 1,2 j + 1} {\\psi}_{2 i + 2,2 j + 1} + {b^{(x)}}_{2 i + 1,2 j} {\\psi}_{2 i + 1,2 j} {\\psi}_{2 i + 2,2 j} + {b^{(x)}}_{2 i,2 j + 1} {\\psi}_{2 i + 1,2 j + 1} {\\psi}_{2 i,2 j + 1} + {b^{(x)}}_{2 i,2 j} {\\psi}_{2 i + 1,2 j} {\\psi}_{2 i,2 j} + {b^{(y)}}_{2 i + 1,2 j + 1} {\\psi}_{2 i + 1,2 j + 1} {\\psi}_{2 i + 1,2 j + 2} + {b^{(y)}}_{2 i + 1,2 j} {\\psi}_{2 i + 1,2 j + 1} {\\psi}_{2 i + 1,2 j} + {b^{(y)}}_{2 i,2 j + 1} {\\psi}_{2 i,2 j + 1} {\\psi}_{2 i,2 j + 2} + {b^{(y)}}_{2 i,2 j} {\\psi}_{2 i,2 j + 1} {\\psi}_{2 i,2 j} + {c}_{2 i + 1,2 j + 1} {\\psi}_{2 i + 1,2 j + 1} + {c}_{2 i + 1,2 j} {\\psi}_{2 i + 1,2 j} + {c}_{2 i,2 j + 1} {\\psi}_{2 i,2 j + 1} + {c}_{2 i,2 j} {\\psi}_{2 i,2 j}$"
      ],
      "text/plain": [
       "a[2*i + 1, 2*j + 1]*psi[2*i + 1, 2*j + 1]**2 + a[2*i + 1, 2*j]*psi[2*i + 1, 2*j]**2 + a[2*i, 2*j + 1]*psi[2*i, 2*j + 1]**2 + a[2*i, 2*j]*psi[2*i, 2*j]**2 + b^(x)[2*i + 1, 2*j + 1]*psi[2*i + 1, 2*j + 1]*psi[2*i + 2, 2*j + 1] + b^(x)[2*i + 1, 2*j]*psi[2*i + 1, 2*j]*psi[2*i + 2, 2*j] + b^(x)[2*i, 2*j + 1]*psi[2*i + 1, 2*j + 1]*psi[2*i, 2*j + 1] + b^(x)[2*i, 2*j]*psi[2*i + 1, 2*j]*psi[2*i, 2*j] + b^(y)[2*i + 1, 2*j + 1]*psi[2*i + 1, 2*j + 1]*psi[2*i + 1, 2*j + 2] + b^(y)[2*i + 1, 2*j]*psi[2*i + 1, 2*j + 1]*psi[2*i + 1, 2*j] + b^(y)[2*i, 2*j + 1]*psi[2*i, 2*j + 1]*psi[2*i, 2*j + 2] + b^(y)[2*i, 2*j]*psi[2*i, 2*j + 1]*psi[2*i, 2*j] + c[2*i + 1, 2*j + 1]*psi[2*i + 1, 2*j + 1] + c[2*i + 1, 2*j]*psi[2*i + 1, 2*j] + c[2*i, 2*j + 1]*psi[2*i, 2*j + 1] + c[2*i, 2*j]*psi[2*i, 2*j]"
      ]
     },
     "metadata": {},
     "output_type": "display_data"
    }
   ],
   "source": [
    "phi = IndexedBase(\"phi\")\n",
    "Phi = IndexedBase(\"Phi\")\n",
    "psi = IndexedBase(\"psi\")\n",
    "alpha = IndexedBase(\"a\")\n",
    "beta_x = IndexedBase(\"b^(x)\")\n",
    "beta_y = IndexedBase(\"b^(y)\")\n",
    "gamma = IndexedBase(\"c\")\n",
    "i = symbols(\"i\", integer=True)\n",
    "j = symbols(\"j\", integer=True)\n",
    "\n",
    "fine_action = (\n",
    "    alpha[i, j] * phi[i, j] ** 2\n",
    "    + beta_x[i, j] * phi[i, j] * phi[i + 1, j]\n",
    "    + beta_y[i, j] * phi[i, j] * phi[i, j + 1]\n",
    "    + gamma[i, j] * phi[i, j]\n",
    ")\n",
    "\n",
    "coarsener = Coarsener(phi, Phi, psi, [i, j])\n",
    "\n",
    "coarse_action = coarsener.apply(fine_action)\n",
    "for term in [\n",
    "    Phi[i, j] ** 2,\n",
    "    Phi[i, j] * Phi[i + 1, j],\n",
    "    Phi[i, j] * Phi[i, j + 1],\n",
    "    Phi[i, j],\n",
    "]:\n",
    "    coeff = coarse_action.coeff(term)\n",
    "    display(term)\n",
    "    display(coeff)\n",
    "    print(\"----\")\n",
    "    coarse_action = simplify(coarse_action - coeff * term)\n",
    "display(coarse_action)\n"
   ]
  },
  {
   "cell_type": "code",
   "execution_count": null,
   "metadata": {},
   "outputs": [],
   "source": []
  }
 ],
 "metadata": {
  "kernelspec": {
   "display_name": "Python 3.9.13 64-bit",
   "language": "python",
   "name": "python3"
  },
  "language_info": {
   "codemirror_mode": {
    "name": "ipython",
    "version": 3
   },
   "file_extension": ".py",
   "mimetype": "text/x-python",
   "name": "python",
   "nbconvert_exporter": "python",
   "pygments_lexer": "ipython3",
   "version": "3.9.13"
  },
  "orig_nbformat": 4,
  "vscode": {
   "interpreter": {
    "hash": "949777d72b0d2535278d3dc13498b2535136f6dfe0678499012e853ee9abcab1"
   }
  }
 },
 "nbformat": 4,
 "nbformat_minor": 2
}
