{
 "cells": [
  {
   "cell_type": "code",
   "execution_count": 1,
   "metadata": {},
   "outputs": [],
   "source": [
    "from sympy import *\n",
    "import numpy as np\n",
    "from IPython.display import display\n",
    "from itertools import product\n",
    "from coarse_action import Coarsener, Action"
   ]
  },
  {
   "cell_type": "code",
   "execution_count": 3,
   "metadata": {},
   "outputs": [
    {
     "data": {
      "text/latex": [
       "$\\displaystyle {\\alpha}_{i,j} {\\phi}_{i,j}^{2} + 2 {\\beta}_{i + 0.5,j} {\\phi}_{i + 1,j} {\\phi}_{i,j} + 2 {\\beta}_{i,j + 0.5} {\\phi}_{i,j + 1} {\\phi}_{i,j}$"
      ],
      "text/plain": [
       "alpha[i, j]*phi[i, j]**2 + 2*beta[i + 0.5, j]*phi[i + 1, j]*phi[i, j] + 2*beta[i, j + 0.5]*phi[i, j + 1]*phi[i, j]"
      ]
     },
     "execution_count": 3,
     "metadata": {},
     "output_type": "execute_result"
    }
   ],
   "source": [
    "phi = IndexedBase('phi')\n",
    "i = symbols('i',integer=True)\n",
    "j = symbols('j',integer=True)\n",
    "alpha = IndexedBase('alpha')\n",
    "beta = IndexedBase('beta')\n",
    "gamma = IndexedBase('c')\n",
    "\n",
    "fine_action_expr = phi[i,j]*(alpha[i,j]*phi[i,j] + beta[i+1/2,j]*phi[i+1,j]+beta[i-1/2,j]*phi[i-1,j]+beta[i,j+1/2]*phi[i,j+1]+beta[i,j-1/2]*phi[i,j-1])\n",
    "action = Action(fine_action_expr,phi,(i,j))\n",
    "action.expr"
   ]
  },
  {
   "cell_type": "code",
   "execution_count": 48,
   "metadata": {},
   "outputs": [
    {
     "data": {
      "text/latex": [
       "$\\displaystyle {\\Phi}_{i,j}^{2}$"
      ],
      "text/plain": [
       "Phi[i, j]**2"
      ]
     },
     "metadata": {},
     "output_type": "display_data"
    },
    {
     "data": {
      "text/latex": [
       "$\\displaystyle {a}_{2 i + 1,2 j + 1} + {a}_{2 i + 1,2 j} + {a}_{2 i,2 j + 1} + {a}_{2 i,2 j} + {b^{(x)}}_{2 i,2 j + 1} + {b^{(x)}}_{2 i,2 j} + {b^{(y)}}_{2 i + 1,2 j} + {b^{(y)}}_{2 i,2 j}$"
      ],
      "text/plain": [
       "a[2*i + 1, 2*j + 1] + a[2*i + 1, 2*j] + a[2*i, 2*j + 1] + a[2*i, 2*j] + b^(x)[2*i, 2*j + 1] + b^(x)[2*i, 2*j] + b^(y)[2*i + 1, 2*j] + b^(y)[2*i, 2*j]"
      ]
     },
     "metadata": {},
     "output_type": "display_data"
    },
    {
     "name": "stdout",
     "output_type": "stream",
     "text": [
      "----\n"
     ]
    },
    {
     "data": {
      "text/latex": [
       "$\\displaystyle {\\Phi}_{i + 1,j} {\\Phi}_{i,j}$"
      ],
      "text/plain": [
       "Phi[i + 1, j]*Phi[i, j]"
      ]
     },
     "metadata": {},
     "output_type": "display_data"
    },
    {
     "data": {
      "text/latex": [
       "$\\displaystyle {b^{(x)}}_{2 i + 1,2 j + 1} + {b^{(x)}}_{2 i + 1,2 j}$"
      ],
      "text/plain": [
       "b^(x)[2*i + 1, 2*j + 1] + b^(x)[2*i + 1, 2*j]"
      ]
     },
     "metadata": {},
     "output_type": "display_data"
    },
    {
     "name": "stdout",
     "output_type": "stream",
     "text": [
      "----\n"
     ]
    },
    {
     "data": {
      "text/latex": [
       "$\\displaystyle {\\Phi}_{i,j + 1} {\\Phi}_{i,j}$"
      ],
      "text/plain": [
       "Phi[i, j + 1]*Phi[i, j]"
      ]
     },
     "metadata": {},
     "output_type": "display_data"
    },
    {
     "data": {
      "text/latex": [
       "$\\displaystyle {b^{(y)}}_{2 i + 1,2 j + 1} + {b^{(y)}}_{2 i,2 j + 1}$"
      ],
      "text/plain": [
       "b^(y)[2*i + 1, 2*j + 1] + b^(y)[2*i, 2*j + 1]"
      ]
     },
     "metadata": {},
     "output_type": "display_data"
    },
    {
     "name": "stdout",
     "output_type": "stream",
     "text": [
      "----\n"
     ]
    },
    {
     "data": {
      "text/latex": [
       "$\\displaystyle {\\Phi}_{i,j}$"
      ],
      "text/plain": [
       "Phi[i, j]"
      ]
     },
     "metadata": {},
     "output_type": "display_data"
    },
    {
     "data": {
      "text/latex": [
       "$\\displaystyle 2 {a}_{2 i + 1,2 j + 1} {\\psi}_{2 i + 1,2 j + 1} + 2 {a}_{2 i + 1,2 j} {\\psi}_{2 i + 1,2 j} + 2 {a}_{2 i,2 j + 1} {\\psi}_{2 i,2 j + 1} + 2 {a}_{2 i,2 j} {\\psi}_{2 i,2 j} + {b^{(x)}}_{2 i + 1,2 j + 1} {\\psi}_{2 i + 2,2 j + 1} + {b^{(x)}}_{2 i + 1,2 j} {\\psi}_{2 i + 2,2 j} + {b^{(x)}}_{2 i - 1,2 j + 1} {\\psi}_{2 i - 1,2 j + 1} + {b^{(x)}}_{2 i - 1,2 j} {\\psi}_{2 i - 1,2 j} + {b^{(x)}}_{2 i,2 j + 1} {\\psi}_{2 i + 1,2 j + 1} + {b^{(x)}}_{2 i,2 j + 1} {\\psi}_{2 i,2 j + 1} + {b^{(x)}}_{2 i,2 j} {\\psi}_{2 i + 1,2 j} + {b^{(x)}}_{2 i,2 j} {\\psi}_{2 i,2 j} + {b^{(y)}}_{2 i + 1,2 j + 1} {\\psi}_{2 i + 1,2 j + 2} + {b^{(y)}}_{2 i + 1,2 j - 1} {\\psi}_{2 i + 1,2 j - 1} + {b^{(y)}}_{2 i + 1,2 j} {\\psi}_{2 i + 1,2 j + 1} + {b^{(y)}}_{2 i + 1,2 j} {\\psi}_{2 i + 1,2 j} + {b^{(y)}}_{2 i,2 j + 1} {\\psi}_{2 i,2 j + 2} + {b^{(y)}}_{2 i,2 j - 1} {\\psi}_{2 i,2 j - 1} + {b^{(y)}}_{2 i,2 j} {\\psi}_{2 i,2 j + 1} + {b^{(y)}}_{2 i,2 j} {\\psi}_{2 i,2 j} + {c}_{2 i + 1,2 j + 1} + {c}_{2 i + 1,2 j} + {c}_{2 i,2 j + 1} + {c}_{2 i,2 j}$"
      ],
      "text/plain": [
       "2*a[2*i + 1, 2*j + 1]*psi[2*i + 1, 2*j + 1] + 2*a[2*i + 1, 2*j]*psi[2*i + 1, 2*j] + 2*a[2*i, 2*j + 1]*psi[2*i, 2*j + 1] + 2*a[2*i, 2*j]*psi[2*i, 2*j] + b^(x)[2*i + 1, 2*j + 1]*psi[2*i + 2, 2*j + 1] + b^(x)[2*i + 1, 2*j]*psi[2*i + 2, 2*j] + b^(x)[2*i - 1, 2*j + 1]*psi[2*i - 1, 2*j + 1] + b^(x)[2*i - 1, 2*j]*psi[2*i - 1, 2*j] + b^(x)[2*i, 2*j + 1]*psi[2*i + 1, 2*j + 1] + b^(x)[2*i, 2*j + 1]*psi[2*i, 2*j + 1] + b^(x)[2*i, 2*j]*psi[2*i + 1, 2*j] + b^(x)[2*i, 2*j]*psi[2*i, 2*j] + b^(y)[2*i + 1, 2*j + 1]*psi[2*i + 1, 2*j + 2] + b^(y)[2*i + 1, 2*j - 1]*psi[2*i + 1, 2*j - 1] + b^(y)[2*i + 1, 2*j]*psi[2*i + 1, 2*j + 1] + b^(y)[2*i + 1, 2*j]*psi[2*i + 1, 2*j] + b^(y)[2*i, 2*j + 1]*psi[2*i, 2*j + 2] + b^(y)[2*i, 2*j - 1]*psi[2*i, 2*j - 1] + b^(y)[2*i, 2*j]*psi[2*i, 2*j + 1] + b^(y)[2*i, 2*j]*psi[2*i, 2*j] + c[2*i + 1, 2*j + 1] + c[2*i + 1, 2*j] + c[2*i, 2*j + 1] + c[2*i, 2*j]"
      ]
     },
     "metadata": {},
     "output_type": "display_data"
    },
    {
     "name": "stdout",
     "output_type": "stream",
     "text": [
      "----\n"
     ]
    },
    {
     "data": {
      "text/latex": [
       "$\\displaystyle {a}_{2 i + 1,2 j + 1} {\\psi}_{2 i + 1,2 j + 1}^{2} + {a}_{2 i + 1,2 j} {\\psi}_{2 i + 1,2 j}^{2} + {a}_{2 i,2 j + 1} {\\psi}_{2 i,2 j + 1}^{2} + {a}_{2 i,2 j} {\\psi}_{2 i,2 j}^{2} + {b^{(x)}}_{2 i + 1,2 j + 1} {\\psi}_{2 i + 1,2 j + 1} {\\psi}_{2 i + 2,2 j + 1} + {b^{(x)}}_{2 i + 1,2 j} {\\psi}_{2 i + 1,2 j} {\\psi}_{2 i + 2,2 j} + {b^{(x)}}_{2 i,2 j + 1} {\\psi}_{2 i + 1,2 j + 1} {\\psi}_{2 i,2 j + 1} + {b^{(x)}}_{2 i,2 j} {\\psi}_{2 i + 1,2 j} {\\psi}_{2 i,2 j} + {b^{(y)}}_{2 i + 1,2 j + 1} {\\psi}_{2 i + 1,2 j + 1} {\\psi}_{2 i + 1,2 j + 2} + {b^{(y)}}_{2 i + 1,2 j} {\\psi}_{2 i + 1,2 j + 1} {\\psi}_{2 i + 1,2 j} + {b^{(y)}}_{2 i,2 j + 1} {\\psi}_{2 i,2 j + 1} {\\psi}_{2 i,2 j + 2} + {b^{(y)}}_{2 i,2 j} {\\psi}_{2 i,2 j + 1} {\\psi}_{2 i,2 j} + {c}_{2 i + 1,2 j + 1} {\\psi}_{2 i + 1,2 j + 1} + {c}_{2 i + 1,2 j} {\\psi}_{2 i + 1,2 j} + {c}_{2 i,2 j + 1} {\\psi}_{2 i,2 j + 1} + {c}_{2 i,2 j} {\\psi}_{2 i,2 j}$"
      ],
      "text/plain": [
       "a[2*i + 1, 2*j + 1]*psi[2*i + 1, 2*j + 1]**2 + a[2*i + 1, 2*j]*psi[2*i + 1, 2*j]**2 + a[2*i, 2*j + 1]*psi[2*i, 2*j + 1]**2 + a[2*i, 2*j]*psi[2*i, 2*j]**2 + b^(x)[2*i + 1, 2*j + 1]*psi[2*i + 1, 2*j + 1]*psi[2*i + 2, 2*j + 1] + b^(x)[2*i + 1, 2*j]*psi[2*i + 1, 2*j]*psi[2*i + 2, 2*j] + b^(x)[2*i, 2*j + 1]*psi[2*i + 1, 2*j + 1]*psi[2*i, 2*j + 1] + b^(x)[2*i, 2*j]*psi[2*i + 1, 2*j]*psi[2*i, 2*j] + b^(y)[2*i + 1, 2*j + 1]*psi[2*i + 1, 2*j + 1]*psi[2*i + 1, 2*j + 2] + b^(y)[2*i + 1, 2*j]*psi[2*i + 1, 2*j + 1]*psi[2*i + 1, 2*j] + b^(y)[2*i, 2*j + 1]*psi[2*i, 2*j + 1]*psi[2*i, 2*j + 2] + b^(y)[2*i, 2*j]*psi[2*i, 2*j + 1]*psi[2*i, 2*j] + c[2*i + 1, 2*j + 1]*psi[2*i + 1, 2*j + 1] + c[2*i + 1, 2*j]*psi[2*i + 1, 2*j] + c[2*i, 2*j + 1]*psi[2*i, 2*j + 1] + c[2*i, 2*j]*psi[2*i, 2*j]"
      ]
     },
     "metadata": {},
     "output_type": "display_data"
    }
   ],
   "source": [
    "\n",
    "phi = IndexedBase('phi')\n",
    "Phi = IndexedBase('Phi')\n",
    "psi = IndexedBase('psi')\n",
    "alpha = IndexedBase('a')\n",
    "beta_x = IndexedBase('b^(x)')\n",
    "beta_y = IndexedBase('b^(y)')\n",
    "gamma = IndexedBase('c')\n",
    "i = symbols('i',integer=True)\n",
    "j = symbols('j',integer=True)\n",
    "\n",
    "fine_action = alpha[i,j]*phi[i,j]**2+beta_x[i,j]*phi[i,j]*phi[i+1,j]+beta_y[i,j]*phi[i,j]*phi[i,j+1] + gamma[i,j]*phi[i,j]\n",
    "\n",
    "coarsener = Coarsener(phi,Phi,psi,[i,j])\n",
    "\n",
    "coarse_action = coarsener.apply(fine_action)\n",
    "for term in [Phi[i,j]**2,Phi[i,j]*Phi[i+1,j],Phi[i,j]*Phi[i,j+1],Phi[i,j]]:\n",
    "    coeff = coarse_action.coeff(term)\n",
    "    display(term)\n",
    "    display(coeff)\n",
    "    print (\"----\")\n",
    "    coarse_action = simplify(coarse_action - coeff*term)\n",
    "display(coarse_action)\n"
   ]
  },
  {
   "cell_type": "code",
   "execution_count": null,
   "metadata": {},
   "outputs": [],
   "source": []
  }
 ],
 "metadata": {
  "kernelspec": {
   "display_name": "Python 3.10.6 64-bit",
   "language": "python",
   "name": "python3"
  },
  "language_info": {
   "codemirror_mode": {
    "name": "ipython",
    "version": 3
   },
   "file_extension": ".py",
   "mimetype": "text/x-python",
   "name": "python",
   "nbconvert_exporter": "python",
   "pygments_lexer": "ipython3",
   "version": "3.10.6"
  },
  "orig_nbformat": 4,
  "vscode": {
   "interpreter": {
    "hash": "916dbcbb3f70747c44a77c7bcd40155683ae19c65e1c03b4aa3499c5328201f1"
   }
  }
 },
 "nbformat": 4,
 "nbformat_minor": 2
}
